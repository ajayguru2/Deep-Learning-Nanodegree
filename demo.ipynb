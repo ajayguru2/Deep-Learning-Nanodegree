{
 "cells": [
  {
   "cell_type": "markdown",
   "metadata": {},
   "source": [
    "## Project: Algorithm for a Dog Identification App \n",
    "\n",
    "\n",
    "In this project, I built a convolutional neural network (CNN) that can classify the breed of dog from any user-supplied image. If the image is of a human and not a dog, the algorithm will provide an estimate of the dog breed that is most resembling.  The image below displays potential sample output of the finished project.\n",
    "\n",
    "![Sample Dog Output](images/sample_dog_output.png)\n",
    "\n",
    "\n",
    "The task of assigning breed to dogs from images is considered exceptionally challenging.  To see why, consider that *even a human* would have great difficulty in distinguishing between a Brittany and a Welsh Springer Spaniel.  \n",
    "\n",
    "Brittany | Welsh Springer Spaniel\n",
    "- | - \n",
    "<img src=\"images/Brittany_02625.jpg\" width=\"100\"> | <img src=\"images/Welsh_springer_spaniel_08203.jpg\" width=\"200\">\n",
    "\n",
    "It is not difficult to find other dog breed pairs with minimal inter-class variation (for instance, Curly-Coated Retrievers and American Water Spaniels).  \n",
    "\n",
    "Curly-Coated Retriever | American Water Spaniel\n",
    "- | -\n",
    "<img src=\"images/Curly-coated_retriever_03896.jpg\" width=\"200\"> | <img src=\"images/American_water_spaniel_00648.jpg\" width=\"200\">\n",
    "\n",
    "Likewise, recall that labradors come in yellow, chocolate, and black.  Our vision-based algorithm will have to conquer this high intra-class variation to determine how to classify all of these different shades as the same breed.  \n",
    "\n",
    "Yellow Labrador | Chocolate Labrador | Black Labrador\n",
    "- | -\n",
    "<img src=\"images/Labrador_retriever_06457.jpg\" width=\"150\"> | <img src=\"images/Labrador_retriever_06455.jpg\" width=\"240\"> | <img src=\"images/Labrador_retriever_06449.jpg\" width=\"220\">\n",
    "\n",
    "I also want to mention that random chance presents an exceptionally low bar: setting aside the fact that the classes are slightly imabalanced, a random guess will provide a correct answer roughly 1 in 133 times, which corresponds to an accuracy of less than 1%.  \n",
    "\n",
    "\n",
    "\n",
    "### Outline\n",
    "\n",
    "The notebook is broken down into separate steps.\n",
    "\n",
    "* [Step 0](#step0): Import Datasets\n",
    "* [Step 1](#step1): Detect Humans\n",
    "* [Step 2](#step2): Detect Dogs\n",
    "* [Step 3](#step3): Create a CNN to Classify Dog Breeds (from Scratch)\n",
    "* [Step 4](#step5): Create a CNN to Classify Dog Breeds (using Transfer Learning)\n",
    "* [Step 5](#step6): Write Dog Breed Classifier Algorithm\n",
    "* [Step 6](#step7): Test Dog Breed Classifier Algorithm\n",
    "\n",
    "---\n",
    "<a id='step0'></a>\n",
    "## Step 0: Import Datasets\n",
    "\n",
    "### Import Dog Dataset\n",
    "\n",
    "In the code cell below, we import a dataset of dog images.  We populate a few variables through the use of the `load_files` function from the scikit-learn library:\n",
    "- `train_files`, `valid_files`, `test_files` - numpy arrays containing file paths to images\n",
    "- `train_targets`, `valid_targets`, `test_targets` - numpy arrays containing onehot-encoded classification labels \n",
    "- `dog_names` - list of string-valued dog breed names for translating labels"
   ]
  },
  {
   "cell_type": "code",
   "execution_count": 1,
   "metadata": {
    "collapsed": false
   },
   "outputs": [
    {
     "name": "stderr",
     "output_type": "stream",
     "text": [
      "Using TensorFlow backend.\n"
     ]
    },
    {
     "name": "stdout",
     "output_type": "stream",
     "text": [
      "There are 133 total dog categories.\n",
      "There are 8351 total dog images.\n",
      "\n",
      "There are 6680 training dog images.\n",
      "There are 835 validation dog images.\n",
      "There are 836 test dog images.\n"
     ]
    }
   ],
   "source": [
    "from sklearn.datasets import load_files\n",
    "from keras.utils import np_utils\n",
    "import numpy as np\n",
    "from glob import glob\n",
    "\n",
    "# define function to load train, test, and validation datasets\n",
    "def load_dataset(path):\n",
    "    data = load_files(path)\n",
    "    dog_files = np.array(data['filenames'])\n",
    "    dog_targets = np_utils.to_categorical(np.array(data['target']), 133)\n",
    "    return dog_files, dog_targets\n",
    "\n",
    "# load train, test, and validation datasets\n",
    "train_files, train_targets = load_dataset('dogImages/train')\n",
    "valid_files, valid_targets = load_dataset('dogImages/valid')\n",
    "test_files, test_targets = load_dataset('dogImages/test')\n",
    "\n",
    "# load list of dog names\n",
    "dog_names = [item[20:-1] for item in sorted(glob(\"dogImages/train/*/\"))]\n",
    "\n",
    "# print statistics about the dataset\n",
    "print('There are %d total dog categories.' % len(dog_names))\n",
    "print('There are %d total dog images.\\n' % len(np.hstack([train_files, valid_files, test_files])))\n",
    "print('There are %d training dog images.' % len(train_files))\n",
    "print('There are %d validation dog images.' % len(valid_files))\n",
    "print('There are %d test dog images.'% len(test_files))"
   ]
  },
  {
   "cell_type": "markdown",
   "metadata": {},
   "source": [
    "### Import Human Dataset\n",
    "\n",
    "In the code cell below, we import a dataset of human images, where the file paths are stored in the numpy array `human_files`."
   ]
  },
  {
   "cell_type": "code",
   "execution_count": 2,
   "metadata": {
    "collapsed": false
   },
   "outputs": [
    {
     "name": "stdout",
     "output_type": "stream",
     "text": [
      "There are 13233 total human images.\n"
     ]
    }
   ],
   "source": [
    "import random\n",
    "random.seed(8675309)\n",
    "\n",
    "# load filenames in shuffled human dataset\n",
    "human_files = np.array(glob(\"lfw/*/*\"))\n",
    "random.shuffle(human_files)\n",
    "\n",
    "# print statistics about the dataset\n",
    "print('There are %d total human images.' % len(human_files))"
   ]
  },
  {
   "cell_type": "markdown",
   "metadata": {},
   "source": [
    "---\n",
    "<a id='step1'></a>\n",
    "## Step 1: Detect Humans\n",
    "\n",
    "We use OpenCV's implementation of [Haar feature-based cascade classifiers](http://docs.opencv.org/trunk/d7/d8b/tutorial_py_face_detection.html) to detect human faces in images.  OpenCV provides many pre-trained face detectors, stored as XML files on [github](https://github.com/opencv/opencv/tree/master/data/haarcascades).  We have downloaded one of these detectors and stored it in the `haarcascades` directory.\n",
    "\n",
    "In the next code cell, we demonstrate how to use this detector to find human faces in a sample image."
   ]
  },
  {
   "cell_type": "code",
   "execution_count": 3,
   "metadata": {
    "collapsed": false
   },
   "outputs": [
    {
     "name": "stdout",
     "output_type": "stream",
     "text": [
      "Number of faces detected: 2\n"
     ]
    },
    {
     "data": {
      "image/png": "iVBORw0KGgoAAAANSUhEUgAAAQsAAAD8CAYAAABgtYFHAAAABHNCSVQICAgIfAhkiAAAAAlwSFlz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\n8anGnbG4G3fjbnyq8f8BzSSQKpQsBh8AAAAASUVORK5CYII=\n",
      "text/plain": [
       "<matplotlib.figure.Figure at 0x7f3138526780>"
      ]
     },
     "metadata": {},
     "output_type": "display_data"
    }
   ],
   "source": [
    "import cv2                \n",
    "import matplotlib.pyplot as plt                        \n",
    "%matplotlib inline                               \n",
    "\n",
    "# extract pre-trained face detector\n",
    "face_cascade = cv2.CascadeClassifier('haarcascades/haarcascade_frontalface_alt.xml')\n",
    "\n",
    "# load color (BGR) image\n",
    "img = cv2.imread(human_files[5])\n",
    "# convert BGR image to grayscale\n",
    "gray = cv2.cvtColor(img, cv2.COLOR_BGR2GRAY)\n",
    "\n",
    "# find faces in image\n",
    "faces = face_cascade.detectMultiScale(gray)\n",
    "\n",
    "# print number of faces detected in the image\n",
    "print('Number of faces detected:', len(faces))\n",
    "\n",
    "# get bounding box for each detected face\n",
    "for (x,y,w,h) in faces:\n",
    "    # add bounding box to color image\n",
    "    cv2.rectangle(img,(x,y),(x+w,y+h),(255,0,0),2)\n",
    "    \n",
    "# convert BGR image to RGB for plotting\n",
    "cv_rgb = cv2.cvtColor(img, cv2.COLOR_BGR2RGB)\n",
    "\n",
    "# display the image, along with bounding box\n",
    "plt.imshow(cv_rgb)\n",
    "plt.show()"
   ]
  },
  {
   "cell_type": "markdown",
   "metadata": {},
   "source": [
    "Before using any of the face detectors, it is standard procedure to convert the images to grayscale.  The `detectMultiScale` function executes the classifier stored in `face_cascade` and takes the grayscale image as a parameter.  \n",
    "\n",
    "In the above code, `faces` is a numpy array of detected faces, where each row corresponds to a detected face.  Each detected face is a 1D array with four entries that specifies the bounding box of the detected face.  The first two entries in the array (extracted in the above code as `x` and `y`) specify the horizontal and vertical positions of the top left corner of the bounding box.  The last two entries in the array (extracted here as `w` and `h`) specify the width and height of the box.\n",
    "\n",
    "### Write a Human Face Detector\n",
    "\n",
    "We can use this procedure to write a function that returns `True` if a human face is detected in an image and `False` otherwise.  This function, aptly named `face_detector`, takes a string-valued file path to an image as input and appears in the code block below."
   ]
  },
  {
   "cell_type": "code",
   "execution_count": 4,
   "metadata": {
    "collapsed": true
   },
   "outputs": [],
   "source": [
    "# returns \"True\" if face is detected in image stored at img_path\n",
    "def face_detector(img_path):\n",
    "    img = cv2.imread(img_path)\n",
    "    gray = cv2.cvtColor(img, cv2.COLOR_BGR2GRAY)\n",
    "    faces = face_cascade.detectMultiScale(gray)\n",
    "    return len(faces) > 0"
   ]
  },
  {
   "cell_type": "markdown",
   "metadata": {},
   "source": [
    "### Test the Human Face Detector\n",
    "\n",
    "Using the code cell below we can test the performance of the `face_detector` function.  \n",
    "\n",
    "Ideally, we would like 100% of human images with a detected face and 0% of dog images with a detected face.  You will see that our algorithm falls short of this goal, but still gives acceptable performance.  We extract the file paths for the first 100 images from each of the datasets and store them in the numpy arrays `human_files_short` and `dog_files_short`.\n",
    "\n",
    "After testing you can see that 99% of the first 100 images in human_files have a detected human face, while 11% of the first 100 images in dog_files have a detected human face."
   ]
  },
  {
   "cell_type": "code",
   "execution_count": 5,
   "metadata": {
    "collapsed": false
   },
   "outputs": [
    {
     "name": "stdout",
     "output_type": "stream",
     "text": [
      "Percentage of humans correctly classified as people: 99.0%\n",
      "Percentage of dogs misclassified as people: 11.0%\n"
     ]
    }
   ],
   "source": [
    "human_files_short = human_files[:100]\n",
    "dog_files_short = train_files[:100]\n",
    "# Do NOT modify the code above this line.\n",
    "\n",
    "human_count = 0\n",
    "total = 0\n",
    "for img in human_files_short:\n",
    "    isPerson = face_detector(img)\n",
    "    if not isPerson:\n",
    "        human_count += 1\n",
    "        total = 100 - human_count\n",
    "    percentage = (total/len(human_files_short)) * 100\n",
    "print('Percentage of humans correctly classified as people: {}%'.format(percentage))\n",
    "\n",
    "dog_count = 0\n",
    "for img in dog_files_short:\n",
    "    isPerson = face_detector(img)\n",
    "    if isPerson:\n",
    "        dog_count += 1\n",
    "    percentage = (dog_count/len(dog_files_short)) * 100\n",
    "print('Percentage of dogs misclassified as people: {}%'.format(percentage))\n",
    "\n",
    "## TODO: Test the performance of the face_detector algorithm \n",
    "## on the images in human_files_short and dog_files_short."
   ]
  },
  {
   "cell_type": "markdown",
   "metadata": {},
   "source": [
    "---\n",
    "<a id='step2'></a>\n",
    "## Step 2: Detect Dogs\n",
    "\n",
    "In this section, we use a pre-trained [ResNet-50](http://ethereon.github.io/netscope/#/gist/db945b393d40bfa26006) model to detect dogs in images.  Our first line of code downloads the ResNet-50 model, along with weights that have been trained on [ImageNet](http://www.image-net.org/), a very large, very popular dataset used for image classification and other vision tasks.  ImageNet contains over 10 million URLs, each linking to an image containing an object from one of [1000 categories](https://gist.github.com/yrevar/942d3a0ac09ec9e5eb3a).  Given an image, this pre-trained ResNet-50 model returns a prediction (derived from the available categories in ImageNet) for the object that is contained in the image."
   ]
  },
  {
   "cell_type": "code",
   "execution_count": 7,
   "metadata": {
    "collapsed": true
   },
   "outputs": [],
   "source": [
    "from keras.applications.resnet50 import ResNet50\n",
    "\n",
    "# define ResNet50 model\n",
    "ResNet50_model = ResNet50(weights='imagenet')"
   ]
  },
  {
   "cell_type": "markdown",
   "metadata": {},
   "source": [
    "### Pre-process the Data\n",
    "\n",
    "When using TensorFlow as backend, Keras CNNs require a 4D array (which we'll also refer to as a 4D tensor) as input, with shape\n",
    "\n",
    "$$\n",
    "(\\text{nb_samples}, \\text{rows}, \\text{columns}, \\text{channels}),\n",
    "$$\n",
    "\n",
    "where `nb_samples` corresponds to the total number of images (or samples), and `rows`, `columns`, and `channels` correspond to the number of rows, columns, and channels for each image, respectively.  \n",
    "\n",
    "The `path_to_tensor` function below takes a string-valued file path to a color image as input and returns a 4D tensor suitable for supplying to a Keras CNN.  The function first loads the image and resizes it to a square image that is $224 \\times 224$ pixels.  Next, the image is converted to an array, which is then resized to a 4D tensor.  In this case, since we are working with color images, each image has three channels.  Likewise, since we are processing a single image (or sample), the returned tensor will always have shape\n",
    "\n",
    "$$\n",
    "(1, 224, 224, 3).\n",
    "$$\n",
    "\n",
    "The `paths_to_tensor` function takes a numpy array of string-valued image paths as input and returns a 4D tensor with shape \n",
    "\n",
    "$$\n",
    "(\\text{nb_samples}, 224, 224, 3).\n",
    "$$\n",
    "\n",
    "Here, `nb_samples` is the number of samples, or number of images, in the supplied array of image paths.  It is best to think of `nb_samples` as the number of 3D tensors (where each 3D tensor corresponds to a different image) in your dataset!"
   ]
  },
  {
   "cell_type": "code",
   "execution_count": 8,
   "metadata": {
    "collapsed": true
   },
   "outputs": [],
   "source": [
    "from keras.preprocessing import image                  \n",
    "from tqdm import tqdm\n",
    "\n",
    "def path_to_tensor(img_path):\n",
    "    # loads RGB image as PIL.Image.Image type\n",
    "    img = image.load_img(img_path, target_size=(224, 224))\n",
    "    # convert PIL.Image.Image type to 3D tensor with shape (224, 224, 3)\n",
    "    x = image.img_to_array(img)\n",
    "    # convert 3D tensor to 4D tensor with shape (1, 224, 224, 3) and return 4D tensor\n",
    "    return np.expand_dims(x, axis=0)\n",
    "\n",
    "def paths_to_tensor(img_paths):\n",
    "    list_of_tensors = [path_to_tensor(img_path) for img_path in tqdm(img_paths)]\n",
    "    return np.vstack(list_of_tensors)"
   ]
  },
  {
   "cell_type": "markdown",
   "metadata": {},
   "source": [
    "### Making Predictions with ResNet-50\n",
    "\n",
    "Getting the 4D tensor ready for ResNet-50, and for any other pre-trained model in Keras, requires some additional processing.  First, the RGB image is converted to BGR by reordering the channels.  All pre-trained models have the additional normalization step that the mean pixel (expressed in RGB as $[103.939, 116.779, 123.68]$ and calculated from all pixels in all images in ImageNet) must be subtracted from every pixel in each image.  This is implemented in the imported function `preprocess_input`.  If you're curious, you can check the code for `preprocess_input` [here](https://github.com/fchollet/keras/blob/master/keras/applications/imagenet_utils.py).\n",
    "\n",
    "Now that we have a way to format our image for supplying to ResNet-50, we are now ready to use the model to extract the predictions.  This is accomplished with the `predict` method, which returns an array whose $i$-th entry is the model's predicted probability that the image belongs to the $i$-th ImageNet category.  This is implemented in the `ResNet50_predict_labels` function below.\n",
    "\n",
    "By taking the argmax of the predicted probability vector, we obtain an integer corresponding to the model's predicted object class, which we can identify with an object category through the use of this [dictionary](https://gist.github.com/yrevar/942d3a0ac09ec9e5eb3a). "
   ]
  },
  {
   "cell_type": "code",
   "execution_count": 9,
   "metadata": {
    "collapsed": true
   },
   "outputs": [],
   "source": [
    "from keras.applications.resnet50 import preprocess_input, decode_predictions\n",
    "\n",
    "def ResNet50_predict_labels(img_path):\n",
    "    # returns prediction vector for image located at img_path\n",
    "    img = preprocess_input(path_to_tensor(img_path))\n",
    "    return np.argmax(ResNet50_model.predict(img))"
   ]
  },
  {
   "cell_type": "markdown",
   "metadata": {},
   "source": [
    "### Write a Dog Detector\n",
    "\n",
    "While looking at the [dictionary](https://gist.github.com/yrevar/942d3a0ac09ec9e5eb3a), you will notice that the categories corresponding to dogs appear in an uninterrupted sequence and correspond to dictionary keys 151-268, inclusive, to include all categories from `'Chihuahua'` to `'Mexican hairless'`.  Thus, in order to check to see if an image is predicted to contain a dog by the pre-trained ResNet-50 model, we need only check if the `ResNet50_predict_labels` function above returns a value between 151 and 268 (inclusive).\n",
    "\n",
    "We use these ideas to complete the `dog_detector` function below, which returns `True` if a dog is detected in an image (and `False` if not)."
   ]
  },
  {
   "cell_type": "code",
   "execution_count": 10,
   "metadata": {
    "collapsed": true
   },
   "outputs": [],
   "source": [
    "### returns \"True\" if a dog is detected in the image stored at img_path\n",
    "def dog_detector(img_path):\n",
    "    prediction = ResNet50_predict_labels(img_path)\n",
    "    return ((prediction <= 268) & (prediction >= 151)) "
   ]
  },
  {
   "cell_type": "markdown",
   "metadata": {},
   "source": [
    "### Test the Dog Detector\n",
    "\n",
    "We can use the code cell below to test the performance of our `dog_detector` function.  \n",
    "\n",
    "As you can see 0% of the images in human_files_short detected a dog and 100% of the images in dog_files_short have a detected dog. Looks like our dog detector function is working quite well!"
   ]
  },
  {
   "cell_type": "code",
   "execution_count": 11,
   "metadata": {
    "collapsed": false
   },
   "outputs": [
    {
     "name": "stdout",
     "output_type": "stream",
     "text": [
      "Percentage of humans misclassified as dogs:: 0.0%\n",
      "Percentage of dogs correctly classified as dogs: 100.0%\n"
     ]
    }
   ],
   "source": [
    "human_count = 0    \n",
    "for img in human_files_short:\n",
    "    isDog = dog_detector(img)\n",
    "    if isDog:\n",
    "        human_count += 1\n",
    "    percentage = (human_count/len(human_files_short)) * 100\n",
    "print('Percentage of humans misclassified as dogs:: {}%'.format(percentage))\n",
    "\n",
    "dog_count = 0\n",
    "for img in dog_files_short:\n",
    "    isDog = dog_detector(img)\n",
    "    if isDog:\n",
    "        dog_count += 1\n",
    "    percentage = (dog_count/len(dog_files_short)) * 100\n",
    "print('Percentage of dogs correctly classified as dogs: {}%'.format(percentage))"
   ]
  },
  {
   "cell_type": "markdown",
   "metadata": {},
   "source": [
    "---\n",
    "<a id='step3'></a>\n",
    "## Step 3: Create a CNN to Classify Dog Breeds (from Scratch)\n",
    "\n",
    "Now that we have functions for detecting humans and dogs in images, we need a way to predict breed from images.  In this step, I will create a CNN that classifies dog breeds from scratch. In Step 5 of this notebook, I will use transfer learning to create a CNN that attains greatly improved accuracy.\n",
    "\n",
    "### Pre-process the Data\n",
    "\n",
    "We rescale the images by dividing every pixel in every image by 255."
   ]
  },
  {
   "cell_type": "code",
   "execution_count": 12,
   "metadata": {
    "collapsed": false
   },
   "outputs": [
    {
     "name": "stderr",
     "output_type": "stream",
     "text": [
      "100%|██████████| 6680/6680 [00:58<00:00, 114.50it/s]\n",
      "100%|██████████| 835/835 [00:06<00:00, 127.40it/s]\n",
      "100%|██████████| 836/836 [00:06<00:00, 128.44it/s]\n"
     ]
    }
   ],
   "source": [
    "from PIL import ImageFile                            \n",
    "ImageFile.LOAD_TRUNCATED_IMAGES = True                 \n",
    "\n",
    "# pre-process the data for Keras\n",
    "train_tensors = paths_to_tensor(train_files).astype('float32')/255\n",
    "valid_tensors = paths_to_tensor(valid_files).astype('float32')/255\n",
    "test_tensors = paths_to_tensor(test_files).astype('float32')/255"
   ]
  },
  {
   "cell_type": "markdown",
   "metadata": {},
   "source": [
    "## Image Augmentation"
   ]
  },
  {
   "cell_type": "code",
   "execution_count": 13,
   "metadata": {
    "collapsed": true
   },
   "outputs": [],
   "source": [
    "from keras.preprocessing.image import ImageDataGenerator\n",
    "\n",
    "# create and configure augmented image generator\n",
    "datagen = ImageDataGenerator(\n",
    "    width_shift_range=0.1,  # randomly shift images horizontally (10% of total width)\n",
    "    height_shift_range=0.1,  # randomly shift images vertically (10% of total height)\n",
    "    horizontal_flip=True) # randomly flip images horizontally\n",
    "\n",
    "# fit augmented image generator on data\n",
    "datagen.fit(train_tensors)\n"
   ]
  },
  {
   "cell_type": "markdown",
   "metadata": {},
   "source": [
    "## Define my own architecture"
   ]
  },
  {
   "cell_type": "code",
   "execution_count": 14,
   "metadata": {
    "collapsed": false
   },
   "outputs": [
    {
     "name": "stdout",
     "output_type": "stream",
     "text": [
      "_________________________________________________________________\n",
      "Layer (type)                 Output Shape              Param #   \n",
      "=================================================================\n",
      "batch_normalization_1 (Batch (None, 224, 224, 3)       12        \n",
      "_________________________________________________________________\n",
      "conv2d_1 (Conv2D)            (None, 222, 222, 16)      448       \n",
      "_________________________________________________________________\n",
      "max_pooling2d_2 (MaxPooling2 (None, 111, 111, 16)      0         \n",
      "_________________________________________________________________\n",
      "batch_normalization_2 (Batch (None, 111, 111, 16)      64        \n",
      "_________________________________________________________________\n",
      "conv2d_2 (Conv2D)            (None, 109, 109, 32)      4640      \n",
      "_________________________________________________________________\n",
      "max_pooling2d_3 (MaxPooling2 (None, 54, 54, 32)        0         \n",
      "_________________________________________________________________\n",
      "batch_normalization_3 (Batch (None, 54, 54, 32)        128       \n",
      "_________________________________________________________________\n",
      "conv2d_3 (Conv2D)            (None, 52, 52, 64)        18496     \n",
      "_________________________________________________________________\n",
      "max_pooling2d_4 (MaxPooling2 (None, 26, 26, 64)        0         \n",
      "_________________________________________________________________\n",
      "batch_normalization_4 (Batch (None, 26, 26, 64)        256       \n",
      "_________________________________________________________________\n",
      "conv2d_4 (Conv2D)            (None, 24, 24, 128)       73856     \n",
      "_________________________________________________________________\n",
      "max_pooling2d_5 (MaxPooling2 (None, 12, 12, 128)       0         \n",
      "_________________________________________________________________\n",
      "batch_normalization_5 (Batch (None, 12, 12, 128)       512       \n",
      "_________________________________________________________________\n",
      "conv2d_5 (Conv2D)            (None, 10, 10, 256)       295168    \n",
      "_________________________________________________________________\n",
      "max_pooling2d_6 (MaxPooling2 (None, 5, 5, 256)         0         \n",
      "_________________________________________________________________\n",
      "batch_normalization_6 (Batch (None, 5, 5, 256)         1024      \n",
      "_________________________________________________________________\n",
      "global_average_pooling2d_1 ( (None, 256)               0         \n",
      "_________________________________________________________________\n",
      "dense_1 (Dense)              (None, 133)               34181     \n",
      "=================================================================\n",
      "Total params: 428,785\n",
      "Trainable params: 427,787\n",
      "Non-trainable params: 998\n",
      "_________________________________________________________________\n"
     ]
    }
   ],
   "source": [
    "from keras.layers import Conv2D, MaxPooling2D, GlobalAveragePooling2D\n",
    "from keras.layers import Dropout, Flatten, Dense, Activation\n",
    "from keras.models import Sequential\n",
    "from keras.layers.normalization import BatchNormalization\n",
    "\n",
    "model = Sequential()\n",
    "model.add(BatchNormalization(input_shape=(224, 224, 3)))\n",
    "model.add(Conv2D(filters=16, kernel_size=3, kernel_initializer='he_normal', activation='relu'))\n",
    "model.add(MaxPooling2D(pool_size=2))\n",
    "model.add(BatchNormalization())\n",
    "\n",
    "model.add(Conv2D(filters=32, kernel_size=3, kernel_initializer='he_normal', activation='relu'))\n",
    "model.add(MaxPooling2D(pool_size=2))\n",
    "model.add(BatchNormalization())\n",
    "\n",
    "model.add(Conv2D(filters=64, kernel_size=3, kernel_initializer='he_normal', activation='relu'))\n",
    "model.add(MaxPooling2D(pool_size=2))\n",
    "model.add(BatchNormalization())\n",
    "\n",
    "model.add(Conv2D(filters=128, kernel_size=3, kernel_initializer='he_normal', activation='relu'))\n",
    "model.add(MaxPooling2D(pool_size=2))\n",
    "model.add(BatchNormalization())\n",
    "\n",
    "model.add(Conv2D(filters=256, kernel_size=3, kernel_initializer='he_normal', activation='relu'))\n",
    "model.add(MaxPooling2D(pool_size=2))\n",
    "model.add(BatchNormalization())\n",
    "\n",
    "model.add(GlobalAveragePooling2D())\n",
    "\n",
    "model.add(Dense(133, activation='softmax'))\n",
    "\n",
    "model.summary()"
   ]
  },
  {
   "cell_type": "markdown",
   "metadata": {},
   "source": [
    "### Compile the Model"
   ]
  },
  {
   "cell_type": "code",
   "execution_count": 124,
   "metadata": {
    "collapsed": true
   },
   "outputs": [],
   "source": [
    "model.compile(optimizer='adam', loss='categorical_crossentropy', metrics=['accuracy'])"
   ]
  },
  {
   "cell_type": "markdown",
   "metadata": {},
   "source": [
    "### Train the Model\n",
    "\n",
    "We train our model in the code cell below.  Notice that I am using model checkpointing to save the model that attains the best validation loss."
   ]
  },
  {
   "cell_type": "code",
   "execution_count": 129,
   "metadata": {
    "collapsed": false
   },
   "outputs": [
    {
     "name": "stdout",
     "output_type": "stream",
     "text": [
      "Epoch 1/10\n",
      "333/334 [============================>.] - ETA: 0s - loss: 4.5252 - acc: 0.0459Epoch 00000: val_loss improved from inf to 4.32222, saving model to saved_models/weights.bestaugmented.from_scratch.hdf5\n",
      "334/334 [==============================] - 62s - loss: 4.5257 - acc: 0.0458 - val_loss: 4.3222 - val_acc: 0.0599\n",
      "Epoch 2/10\n",
      "333/334 [============================>.] - ETA: 0s - loss: 4.0783 - acc: 0.0859Epoch 00001: val_loss improved from 4.32222 to 4.01191, saving model to saved_models/weights.bestaugmented.from_scratch.hdf5\n",
      "334/334 [==============================] - 58s - loss: 4.0772 - acc: 0.0862 - val_loss: 4.0119 - val_acc: 0.0886\n",
      "Epoch 3/10\n",
      "333/334 [============================>.] - ETA: 0s - loss: 3.7164 - acc: 0.1381Epoch 00002: val_loss improved from 4.01191 to 3.69128, saving model to saved_models/weights.bestaugmented.from_scratch.hdf5\n",
      "334/334 [==============================] - 58s - loss: 3.7160 - acc: 0.1383 - val_loss: 3.6913 - val_acc: 0.1198\n",
      "Epoch 4/10\n",
      "333/334 [============================>.] - ETA: 0s - loss: 3.4101 - acc: 0.1830Epoch 00003: val_loss improved from 3.69128 to 3.40369, saving model to saved_models/weights.bestaugmented.from_scratch.hdf5\n",
      "334/334 [==============================] - 58s - loss: 3.4092 - acc: 0.1834 - val_loss: 3.4037 - val_acc: 0.1677\n",
      "Epoch 5/10\n",
      "333/334 [============================>.] - ETA: 0s - loss: 3.1321 - acc: 0.2366Epoch 00004: val_loss improved from 3.40369 to 3.18252, saving model to saved_models/weights.bestaugmented.from_scratch.hdf5\n",
      "334/334 [==============================] - 58s - loss: 3.1330 - acc: 0.2362 - val_loss: 3.1825 - val_acc: 0.2240\n",
      "Epoch 6/10\n",
      "333/334 [============================>.] - ETA: 0s - loss: 2.8884 - acc: 0.2854Epoch 00005: val_loss improved from 3.18252 to 3.09669, saving model to saved_models/weights.bestaugmented.from_scratch.hdf5\n",
      "334/334 [==============================] - 59s - loss: 2.8870 - acc: 0.2856 - val_loss: 3.0967 - val_acc: 0.2299\n",
      "Epoch 7/10\n",
      "333/334 [============================>.] - ETA: 0s - loss: 2.6632 - acc: 0.3249Epoch 00006: val_loss improved from 3.09669 to 2.98263, saving model to saved_models/weights.bestaugmented.from_scratch.hdf5\n",
      "334/334 [==============================] - 58s - loss: 2.6624 - acc: 0.3249 - val_loss: 2.9826 - val_acc: 0.2623\n",
      "Epoch 8/10\n",
      "333/334 [============================>.] - ETA: 0s - loss: 2.4723 - acc: 0.3634Epoch 00007: val_loss improved from 2.98263 to 2.71618, saving model to saved_models/weights.bestaugmented.from_scratch.hdf5\n",
      "334/334 [==============================] - 57s - loss: 2.4734 - acc: 0.3635 - val_loss: 2.7162 - val_acc: 0.3341\n",
      "Epoch 9/10\n",
      "333/334 [============================>.] - ETA: 0s - loss: 2.2560 - acc: 0.4162Epoch 00008: val_loss improved from 2.71618 to 2.64979, saving model to saved_models/weights.bestaugmented.from_scratch.hdf5\n",
      "334/334 [==============================] - 57s - loss: 2.2569 - acc: 0.4159 - val_loss: 2.6498 - val_acc: 0.3497\n",
      "Epoch 10/10\n",
      "333/334 [============================>.] - ETA: 0s - loss: 2.0666 - acc: 0.4572Epoch 00009: val_loss improved from 2.64979 to 2.44549, saving model to saved_models/weights.bestaugmented.from_scratch.hdf5\n",
      "334/334 [==============================] - 57s - loss: 2.0662 - acc: 0.4572 - val_loss: 2.4455 - val_acc: 0.3605\n"
     ]
    },
    {
     "data": {
      "text/plain": [
       "<keras.callbacks.History at 0x7f210a4da828>"
      ]
     },
     "execution_count": 129,
     "metadata": {},
     "output_type": "execute_result"
    }
   ],
   "source": [
    "epochs = 10\n",
    "batch_size = 20\n",
    "\n",
    "checkpointer = ModelCheckpoint(filepath='saved_models/weights.bestaugmented.from_scratch.hdf5', \n",
    "                               verbose=1, save_best_only=True)\n",
    "\n",
    "### Using Image Augmentation\n",
    "model.fit_generator(datagen.flow(train_tensors, train_targets, batch_size=batch_size),\n",
    "                    validation_data=(valid_tensors, valid_targets), \n",
    "                    steps_per_epoch=train_tensors.shape[0] // batch_size,\n",
    "                    epochs=epochs, callbacks=[checkpointer], verbose=1)"
   ]
  },
  {
   "cell_type": "markdown",
   "metadata": {},
   "source": [
    "### Load the Model with the Best Validation Loss"
   ]
  },
  {
   "cell_type": "code",
   "execution_count": 137,
   "metadata": {
    "collapsed": true
   },
   "outputs": [],
   "source": [
    "model.load_weights('saved_models/weights.bestaugmented.from_scratch.hdf5')"
   ]
  },
  {
   "cell_type": "markdown",
   "metadata": {},
   "source": [
    "### Test the Model\n",
    "\n",
    "Let's try out our model on the test dataset of dog images. This will be our \"test accuracy\". "
   ]
  },
  {
   "cell_type": "code",
   "execution_count": 131,
   "metadata": {
    "collapsed": false
   },
   "outputs": [
    {
     "name": "stdout",
     "output_type": "stream",
     "text": [
      "Test accuracy: 33.6124%\n"
     ]
    }
   ],
   "source": [
    "# get index of predicted dog breed for each image in test set\n",
    "dog_breed_predictions = [np.argmax(model.predict(np.expand_dims(tensor, axis=0))) for tensor in test_tensors]\n",
    "\n",
    "# report test accuracy\n",
    "test_accuracy = 100*np.sum(np.array(dog_breed_predictions)==np.argmax(test_targets, axis=1))/len(dog_breed_predictions)\n",
    "print('Test accuracy: %.4f%%' % test_accuracy)"
   ]
  },
  {
   "cell_type": "markdown",
   "metadata": {},
   "source": [
    "### More Training\n",
    "We can resume training to see if accuracy improves"
   ]
  },
  {
   "cell_type": "code",
   "execution_count": 134,
   "metadata": {
    "collapsed": false
   },
   "outputs": [
    {
     "name": "stdout",
     "output_type": "stream",
     "text": [
      "Epoch 1/5\n",
      "333/334 [============================>.] - ETA: 0s - loss: 1.8754 - acc: 0.4977Epoch 00000: val_loss did not improve\n",
      "334/334 [==============================] - 59s - loss: 1.8750 - acc: 0.4978 - val_loss: 2.5731 - val_acc: 0.3760\n",
      "Epoch 2/5\n",
      "333/334 [============================>.] - ETA: 0s - loss: 1.7301 - acc: 0.5390Epoch 00001: val_loss improved from 2.44549 to 2.26365, saving model to saved_models/weights.bestaugmented.from_scratch.hdf5\n",
      "334/334 [==============================] - 58s - loss: 1.7306 - acc: 0.5391 - val_loss: 2.2637 - val_acc: 0.4096\n",
      "Epoch 3/5\n",
      "333/334 [============================>.] - ETA: 0s - loss: 1.6041 - acc: 0.5707Epoch 00002: val_loss improved from 2.26365 to 2.20628, saving model to saved_models/weights.bestaugmented.from_scratch.hdf5\n",
      "334/334 [==============================] - 58s - loss: 1.6036 - acc: 0.5707 - val_loss: 2.2063 - val_acc: 0.4240\n",
      "Epoch 4/5\n",
      "333/334 [============================>.] - ETA: 0s - loss: 1.4767 - acc: 0.5947Epoch 00003: val_loss improved from 2.20628 to 2.19275, saving model to saved_models/weights.bestaugmented.from_scratch.hdf5\n",
      "334/334 [==============================] - 58s - loss: 1.4755 - acc: 0.5946 - val_loss: 2.1927 - val_acc: 0.4347\n",
      "Epoch 5/5\n",
      "333/334 [============================>.] - ETA: 0s - loss: 1.3490 - acc: 0.6351Epoch 00004: val_loss improved from 2.19275 to 2.14167, saving model to saved_models/weights.bestaugmented.from_scratch.hdf5\n",
      "334/334 [==============================] - 58s - loss: 1.3494 - acc: 0.6349 - val_loss: 2.1417 - val_acc: 0.4455\n"
     ]
    },
    {
     "data": {
      "text/plain": [
       "<keras.callbacks.History at 0x7f210a4c6630>"
      ]
     },
     "execution_count": 134,
     "metadata": {},
     "output_type": "execute_result"
    }
   ],
   "source": [
    "batch_size = 20\n",
    "epochs = 5\n",
    "\n",
    "model.fit_generator(datagen.flow(train_tensors, train_targets, batch_size=batch_size),\n",
    "                    validation_data=(valid_tensors, valid_targets), \n",
    "                    steps_per_epoch=train_tensors.shape[0] // batch_size,\n",
    "                    epochs=epochs, callbacks=[checkpointer], verbose=1)"
   ]
  },
  {
   "cell_type": "code",
   "execution_count": 136,
   "metadata": {
    "collapsed": false
   },
   "outputs": [
    {
     "name": "stdout",
     "output_type": "stream",
     "text": [
      "Epoch 1/5\n",
      "333/334 [============================>.] - ETA: 0s - loss: 1.2440 - acc: 0.6595Epoch 00000: val_loss improved from 2.14167 to 2.04245, saving model to saved_models/weights.bestaugmented.from_scratch.hdf5\n",
      "334/334 [==============================] - 59s - loss: 1.2430 - acc: 0.6597 - val_loss: 2.0425 - val_acc: 0.4611\n",
      "Epoch 2/5\n",
      "333/334 [============================>.] - ETA: 0s - loss: 1.1418 - acc: 0.6886Epoch 00001: val_loss did not improve\n",
      "334/334 [==============================] - 58s - loss: 1.1431 - acc: 0.6880 - val_loss: 2.0567 - val_acc: 0.4359\n",
      "Epoch 3/5\n",
      "333/334 [============================>.] - ETA: 0s - loss: 1.0476 - acc: 0.7107Epoch 00002: val_loss did not improve\n",
      "334/334 [==============================] - 58s - loss: 1.0465 - acc: 0.7112 - val_loss: 2.0488 - val_acc: 0.4874\n",
      "Epoch 4/5\n",
      "333/334 [============================>.] - ETA: 0s - loss: 0.9808 - acc: 0.7309Epoch 00003: val_loss improved from 2.04245 to 1.94961, saving model to saved_models/weights.bestaugmented.from_scratch.hdf5\n",
      "334/334 [==============================] - 57s - loss: 0.9818 - acc: 0.7304 - val_loss: 1.9496 - val_acc: 0.4778\n",
      "Epoch 5/5\n",
      "333/334 [============================>.] - ETA: 0s - loss: 0.9058 - acc: 0.7423Epoch 00004: val_loss did not improve\n",
      "334/334 [==============================] - 58s - loss: 0.9059 - acc: 0.7425 - val_loss: 2.0029 - val_acc: 0.4802\n"
     ]
    },
    {
     "data": {
      "text/plain": [
       "<keras.callbacks.History at 0x7f210a4c6588>"
      ]
     },
     "execution_count": 136,
     "metadata": {},
     "output_type": "execute_result"
    }
   ],
   "source": [
    "batch_size = 20\n",
    "epochs = 5\n",
    "\n",
    "model.fit_generator(datagen.flow(train_tensors, train_targets, batch_size=batch_size),\n",
    "                    validation_data=(valid_tensors, valid_targets), \n",
    "                    steps_per_epoch=train_tensors.shape[0] // batch_size,\n",
    "                    epochs=epochs, callbacks=[checkpointer], verbose=1)"
   ]
  },
  {
   "cell_type": "code",
   "execution_count": 139,
   "metadata": {
    "collapsed": false
   },
   "outputs": [
    {
     "name": "stdout",
     "output_type": "stream",
     "text": [
      "Epoch 1/5\n",
      "103/104 [============================>.] - ETA: 0s - loss: 0.6295 - acc: 0.8381Epoch 00000: val_loss improved from 1.94961 to 1.72946, saving model to saved_models/weights.bestaugmented.from_scratch.hdf5\n",
      "104/104 [==============================] - 58s - loss: 0.6297 - acc: 0.8379 - val_loss: 1.7295 - val_acc: 0.5281\n",
      "Epoch 2/5\n",
      "103/104 [============================>.] - ETA: 0s - loss: 0.5351 - acc: 0.8741Epoch 00001: val_loss improved from 1.72946 to 1.72020, saving model to saved_models/weights.bestaugmented.from_scratch.hdf5\n",
      "104/104 [==============================] - 55s - loss: 0.5352 - acc: 0.8737 - val_loss: 1.7202 - val_acc: 0.5305\n",
      "Epoch 3/5\n",
      "103/104 [============================>.] - ETA: 0s - loss: 0.4984 - acc: 0.8865Epoch 00002: val_loss did not improve\n",
      "104/104 [==============================] - 55s - loss: 0.4993 - acc: 0.8860 - val_loss: 1.7535 - val_acc: 0.5257\n",
      "Epoch 4/5\n",
      "103/104 [============================>.] - ETA: 0s - loss: 0.4612 - acc: 0.8941Epoch 00003: val_loss did not improve\n",
      "104/104 [==============================] - 56s - loss: 0.4622 - acc: 0.8931 - val_loss: 1.7339 - val_acc: 0.5150\n",
      "Epoch 5/5\n",
      "103/104 [============================>.] - ETA: 0s - loss: 0.4281 - acc: 0.9046Epoch 00004: val_loss did not improve\n",
      "104/104 [==============================] - 54s - loss: 0.4275 - acc: 0.9047 - val_loss: 1.7621 - val_acc: 0.5174\n"
     ]
    },
    {
     "data": {
      "text/plain": [
       "<keras.callbacks.History at 0x7f210a4c6550>"
      ]
     },
     "execution_count": 139,
     "metadata": {},
     "output_type": "execute_result"
    }
   ],
   "source": [
    "batch_size = 64\n",
    "epochs = 5\n",
    "\n",
    "model.fit_generator(datagen.flow(train_tensors, train_targets, batch_size=batch_size),\n",
    "                    validation_data=(valid_tensors, valid_targets), \n",
    "                    steps_per_epoch=train_tensors.shape[0] // batch_size,\n",
    "                    epochs=epochs, callbacks=[checkpointer], verbose=1)"
   ]
  },
  {
   "cell_type": "markdown",
   "metadata": {},
   "source": [
    "## Test the Model Again\n",
    "After we test the model again we see that we improved test accuracy up to 51%"
   ]
  },
  {
   "cell_type": "code",
   "execution_count": 140,
   "metadata": {
    "collapsed": false
   },
   "outputs": [
    {
     "name": "stdout",
     "output_type": "stream",
     "text": [
      "Test accuracy: 51.0766%\n"
     ]
    }
   ],
   "source": [
    "# get index of predicted dog breed for each image in test set\n",
    "dog_breed_predictions = [np.argmax(model.predict(np.expand_dims(tensor, axis=0))) for tensor in test_tensors]\n",
    "\n",
    "# report test accuracy\n",
    "test_accuracy = 100*np.sum(np.array(dog_breed_predictions)==np.argmax(test_targets, axis=1))/len(dog_breed_predictions)\n",
    "print('Test accuracy: %.4f%%' % test_accuracy)"
   ]
  },
  {
   "cell_type": "markdown",
   "metadata": {},
   "source": [
    "---\n",
    "<a id='step4'></a>\n",
    "## Step 4: Create a CNN to Classify Dog Breeds (using Transfer Learning)\n",
    "\n",
    "I will now use transfer learning to create a CNN that can identify dog breed from images.\n",
    "\n",
    "### Obtain Bottleneck Features\n",
    "\n",
    "In the code block below, I extract the bottleneck features corresponding to the train, test, and validation sets. In order to run the code you will first need to download the bottleneck features from the link below into the folder 'bottleneck_features':\n",
    "\n",
    "Bottleneck features download link: https://s3-us-west-1.amazonaws.com/udacity-aind/dog-project/DogResnet50Data.npz"
   ]
  },
  {
   "cell_type": "code",
   "execution_count": 15,
   "metadata": {
    "collapsed": true
   },
   "outputs": [],
   "source": [
    "import numpy as np\n",
    "\n",
    "### TODO: Obtain bottleneck features from another pre-trained CNN.\n",
    "bottleneck_features = np.load('bottleneck_features/DogResnet50Data.npz')\n",
    "train_ResNet50 = bottleneck_features['train']\n",
    "valid_ResNet50 = bottleneck_features['valid']\n",
    "test_ResNet50 = bottleneck_features['test']\n"
   ]
  },
  {
   "cell_type": "markdown",
   "metadata": {},
   "source": [
    "### Model Architecture\n",
    "\n",
    "Here I create a CNN to classify dog breeds similar to before, but this time I am using a pre-trained network."
   ]
  },
  {
   "cell_type": "markdown",
   "metadata": {},
   "source": [
    "## Define Model Architecture"
   ]
  },
  {
   "cell_type": "code",
   "execution_count": 16,
   "metadata": {
    "collapsed": false
   },
   "outputs": [
    {
     "name": "stdout",
     "output_type": "stream",
     "text": [
      "_________________________________________________________________\n",
      "Layer (type)                 Output Shape              Param #   \n",
      "=================================================================\n",
      "global_average_pooling2d_2 ( (None, 2048)              0         \n",
      "_________________________________________________________________\n",
      "dense_2 (Dense)              (None, 133)               272517    \n",
      "=================================================================\n",
      "Total params: 272,517\n",
      "Trainable params: 272,517\n",
      "Non-trainable params: 0\n",
      "_________________________________________________________________\n"
     ]
    }
   ],
   "source": [
    "from keras.layers import Conv2D, MaxPooling2D, GlobalAveragePooling2D\n",
    "from keras.layers import Dropout, Flatten, Dense, Activation\n",
    "from keras.models import Sequential\n",
    "from keras.layers.normalization import BatchNormalization\n",
    "\n",
    "ResNet_model = Sequential()\n",
    "ResNet_model.add(GlobalAveragePooling2D(input_shape=train_ResNet50.shape[1:]))\n",
    "ResNet_model.add(Dense(133, activation='softmax'))\n",
    "\n",
    "ResNet_model.summary()"
   ]
  },
  {
   "cell_type": "markdown",
   "metadata": {},
   "source": [
    "### Compile the Model"
   ]
  },
  {
   "cell_type": "code",
   "execution_count": 18,
   "metadata": {
    "collapsed": true
   },
   "outputs": [],
   "source": [
    "from keras.optimizers import Adam, Adamax\n",
    "\n",
    "ResNet_model.compile(loss='categorical_crossentropy', optimizer=Adamax(lr=0.002), metrics=['accuracy'])"
   ]
  },
  {
   "cell_type": "markdown",
   "metadata": {},
   "source": [
    "### Train the Model\n",
    "\n",
    "Here we train the model in the code cell below."
   ]
  },
  {
   "cell_type": "code",
   "execution_count": 229,
   "metadata": {
    "collapsed": false
   },
   "outputs": [
    {
     "name": "stdout",
     "output_type": "stream",
     "text": [
      "Train on 6680 samples, validate on 835 samples\n",
      "Epoch 1/30\n",
      "6336/6680 [===========================>..] - ETA: 0s - loss: 2.3541 - acc: 0.4956Epoch 00000: val_loss improved from inf to 1.18743, saving model to saved_models/weights.best_adamax.ResNet50.hdf5\n",
      "6680/6680 [==============================] - 3s - loss: 2.2980 - acc: 0.5057 - val_loss: 1.1874 - val_acc: 0.7234\n",
      "Epoch 2/30\n",
      "6144/6680 [==========================>...] - ETA: 0s - loss: 0.7608 - acc: 0.8431Epoch 00001: val_loss improved from 1.18743 to 0.88931, saving model to saved_models/weights.best_adamax.ResNet50.hdf5\n",
      "6680/6680 [==============================] - 0s - loss: 0.7514 - acc: 0.8448 - val_loss: 0.8893 - val_acc: 0.7521\n",
      "Epoch 3/30\n",
      "6528/6680 [============================>.] - ETA: 0s - loss: 0.4989 - acc: 0.9050Epoch 00002: val_loss improved from 0.88931 to 0.76696, saving model to saved_models/weights.best_adamax.ResNet50.hdf5\n",
      "6680/6680 [==============================] - 0s - loss: 0.4969 - acc: 0.9054 - val_loss: 0.7670 - val_acc: 0.7772\n",
      "Epoch 4/30\n",
      "6144/6680 [==========================>...] - ETA: 0s - loss: 0.3672 - acc: 0.9395Epoch 00003: val_loss improved from 0.76696 to 0.70413, saving model to saved_models/weights.best_adamax.ResNet50.hdf5\n",
      "6680/6680 [==============================] - 0s - loss: 0.3667 - acc: 0.9388 - val_loss: 0.7041 - val_acc: 0.7856\n",
      "Epoch 5/30\n",
      "6208/6680 [==========================>...] - ETA: 0s - loss: 0.2865 - acc: 0.9594Epoch 00004: val_loss improved from 0.70413 to 0.64720, saving model to saved_models/weights.best_adamax.ResNet50.hdf5\n",
      "6680/6680 [==============================] - 0s - loss: 0.2853 - acc: 0.9588 - val_loss: 0.6472 - val_acc: 0.8108\n",
      "Epoch 6/30\n",
      "6464/6680 [============================>.] - ETA: 0s - loss: 0.2268 - acc: 0.9743Epoch 00005: val_loss improved from 0.64720 to 0.61937, saving model to saved_models/weights.best_adamax.ResNet50.hdf5\n",
      "6680/6680 [==============================] - 0s - loss: 0.2270 - acc: 0.9744 - val_loss: 0.6194 - val_acc: 0.8204\n",
      "Epoch 7/30\n",
      "6400/6680 [===========================>..] - ETA: 0s - loss: 0.1878 - acc: 0.9820- ETA: 0s - loss: 0.1912 - acEpoch 00006: val_loss improved from 0.61937 to 0.59620, saving model to saved_models/weights.best_adamax.ResNet50.hdf5\n",
      "6680/6680 [==============================] - 0s - loss: 0.1870 - acc: 0.9823 - val_loss: 0.5962 - val_acc: 0.8228\n",
      "Epoch 8/30\n",
      "6464/6680 [============================>.] - ETA: 0s - loss: 0.1518 - acc: 0.9895Epoch 00007: val_loss improved from 0.59620 to 0.58410, saving model to saved_models/weights.best_adamax.ResNet50.hdf5\n",
      "6680/6680 [==============================] - 0s - loss: 0.1519 - acc: 0.9891 - val_loss: 0.5841 - val_acc: 0.8251\n",
      "Epoch 9/30\n",
      "6336/6680 [===========================>..] - ETA: 0s - loss: 0.1284 - acc: 0.9927Epoch 00008: val_loss improved from 0.58410 to 0.56754, saving model to saved_models/weights.best_adamax.ResNet50.hdf5\n",
      "6680/6680 [==============================] - 0s - loss: 0.1282 - acc: 0.9924 - val_loss: 0.5675 - val_acc: 0.8216\n",
      "Epoch 10/30\n",
      "6400/6680 [===========================>..] - ETA: 0s - loss: 0.1090 - acc: 0.9944Epoch 00009: val_loss improved from 0.56754 to 0.55699, saving model to saved_models/weights.best_adamax.ResNet50.hdf5\n",
      "6680/6680 [==============================] - 0s - loss: 0.1086 - acc: 0.9946 - val_loss: 0.5570 - val_acc: 0.8251\n",
      "Epoch 11/30\n",
      "6464/6680 [============================>.] - ETA: 0s - loss: 0.0925 - acc: 0.9964Epoch 00010: val_loss improved from 0.55699 to 0.55447, saving model to saved_models/weights.best_adamax.ResNet50.hdf5\n",
      "6680/6680 [==============================] - 0s - loss: 0.0926 - acc: 0.9964 - val_loss: 0.5545 - val_acc: 0.8359\n",
      "Epoch 12/30\n",
      "6464/6680 [============================>.] - ETA: 0s - loss: 0.0785 - acc: 0.9971Epoch 00011: val_loss improved from 0.55447 to 0.53949, saving model to saved_models/weights.best_adamax.ResNet50.hdf5\n",
      "6680/6680 [==============================] - 0s - loss: 0.0788 - acc: 0.9972 - val_loss: 0.5395 - val_acc: 0.8359\n",
      "Epoch 13/30\n",
      "6464/6680 [============================>.] - ETA: 0s - loss: 0.0688 - acc: 0.9983Epoch 00012: val_loss improved from 0.53949 to 0.53730, saving model to saved_models/weights.best_adamax.ResNet50.hdf5\n",
      "6680/6680 [==============================] - 0s - loss: 0.0694 - acc: 0.9981 - val_loss: 0.5373 - val_acc: 0.8383\n",
      "Epoch 14/30\n",
      "6464/6680 [============================>.] - ETA: 0s - loss: 0.0599 - acc: 0.9983Epoch 00013: val_loss improved from 0.53730 to 0.53090, saving model to saved_models/weights.best_adamax.ResNet50.hdf5\n",
      "6680/6680 [==============================] - 0s - loss: 0.0601 - acc: 0.9982 - val_loss: 0.5309 - val_acc: 0.8359\n",
      "Epoch 15/30\n",
      "6464/6680 [============================>.] - ETA: 0s - loss: 0.0526 - acc: 0.9986Epoch 00014: val_loss did not improve\n",
      "6680/6680 [==============================] - 0s - loss: 0.0525 - acc: 0.9987 - val_loss: 0.5348 - val_acc: 0.8395\n",
      "Epoch 16/30\n",
      "6400/6680 [===========================>..] - ETA: 0s - loss: 0.0463 - acc: 0.9988Epoch 00015: val_loss did not improve\n",
      "6680/6680 [==============================] - 0s - loss: 0.0462 - acc: 0.9987 - val_loss: 0.5334 - val_acc: 0.8407\n",
      "Epoch 17/30\n",
      "6464/6680 [============================>.] - ETA: 0s - loss: 0.0404 - acc: 0.9988Epoch 00016: val_loss improved from 0.53090 to 0.52440, saving model to saved_models/weights.best_adamax.ResNet50.hdf5\n",
      "6680/6680 [==============================] - 0s - loss: 0.0406 - acc: 0.9987 - val_loss: 0.5244 - val_acc: 0.8479\n",
      "Epoch 18/30\n",
      "6464/6680 [============================>.] - ETA: 0s - loss: 0.0363 - acc: 0.9983- ETA: 0s - loss: 0.0360 - accEpoch 00017: val_loss did not improve\n",
      "6680/6680 [==============================] - 0s - loss: 0.0364 - acc: 0.9984 - val_loss: 0.5250 - val_acc: 0.8455\n",
      "Epoch 19/30\n",
      "6464/6680 [============================>.] - ETA: 0s - loss: 0.0324 - acc: 0.9985Epoch 00018: val_loss did not improve\n",
      "6680/6680 [==============================] - 0s - loss: 0.0325 - acc: 0.9985 - val_loss: 0.5303 - val_acc: 0.8431\n",
      "Epoch 20/30\n",
      "6464/6680 [============================>.] - ETA: 0s - loss: 0.0288 - acc: 0.9985Epoch 00019: val_loss improved from 0.52440 to 0.52421, saving model to saved_models/weights.best_adamax.ResNet50.hdf5\n",
      "6680/6680 [==============================] - 0s - loss: 0.0288 - acc: 0.9985 - val_loss: 0.5242 - val_acc: 0.8455\n",
      "Epoch 21/30\n",
      "6464/6680 [============================>.] - ETA: 0s - loss: 0.0262 - acc: 0.9988Epoch 00020: val_loss improved from 0.52421 to 0.52280, saving model to saved_models/weights.best_adamax.ResNet50.hdf5\n",
      "6680/6680 [==============================] - 0s - loss: 0.0262 - acc: 0.9987 - val_loss: 0.5228 - val_acc: 0.8431\n",
      "Epoch 22/30\n",
      "6464/6680 [============================>.] - ETA: 0s - loss: 0.0231 - acc: 0.9988- ETA: 0s - loss: 0.0219 - acEpoch 00021: val_loss did not improve\n",
      "6680/6680 [==============================] - 0s - loss: 0.0234 - acc: 0.9987 - val_loss: 0.5229 - val_acc: 0.8431\n",
      "Epoch 23/30\n",
      "6464/6680 [============================>.] - ETA: 0s - loss: 0.0212 - acc: 0.9989Epoch 00022: val_loss did not improve\n",
      "6680/6680 [==============================] - 0s - loss: 0.0214 - acc: 0.9988 - val_loss: 0.5287 - val_acc: 0.8455\n",
      "Epoch 24/30\n",
      "6464/6680 [============================>.] - ETA: 0s - loss: 0.0187 - acc: 0.9991Epoch 00023: val_loss did not improve\n",
      "6680/6680 [==============================] - 0s - loss: 0.0189 - acc: 0.9990 - val_loss: 0.5278 - val_acc: 0.8491\n",
      "Epoch 25/30\n",
      "6464/6680 [============================>.] - ETA: 0s - loss: 0.0172 - acc: 0.9989Epoch 00024: val_loss did not improve\n",
      "6680/6680 [==============================] - 0s - loss: 0.0172 - acc: 0.9990 - val_loss: 0.5322 - val_acc: 0.8491\n",
      "Epoch 26/30\n",
      "6464/6680 [============================>.] - ETA: 0s - loss: 0.0158 - acc: 0.9988Epoch 00025: val_loss did not improve\n",
      "6680/6680 [==============================] - 0s - loss: 0.0157 - acc: 0.9988 - val_loss: 0.5274 - val_acc: 0.8443\n",
      "Epoch 27/30\n",
      "6464/6680 [============================>.] - ETA: 0s - loss: 0.0144 - acc: 0.9988Epoch 00026: val_loss did not improve\n",
      "6680/6680 [==============================] - 0s - loss: 0.0144 - acc: 0.9988 - val_loss: 0.5333 - val_acc: 0.8479\n",
      "Epoch 28/30\n",
      "6464/6680 [============================>.] - ETA: 0s - loss: 0.0131 - acc: 0.9988Epoch 00027: val_loss did not improve\n",
      "6680/6680 [==============================] - 0s - loss: 0.0132 - acc: 0.9987 - val_loss: 0.5313 - val_acc: 0.8443\n",
      "Epoch 29/30\n",
      "6464/6680 [============================>.] - ETA: 0s - loss: 0.0119 - acc: 0.9989Epoch 00028: val_loss did not improve\n",
      "6680/6680 [==============================] - 0s - loss: 0.0121 - acc: 0.9988 - val_loss: 0.5386 - val_acc: 0.8467\n",
      "Epoch 30/30\n",
      "6464/6680 [============================>.] - ETA: 0s - loss: 0.0108 - acc: 0.9988Epoch 00029: val_loss did not improve\n",
      "6680/6680 [==============================] - 0s - loss: 0.0110 - acc: 0.9987 - val_loss: 0.5269 - val_acc: 0.8527\n"
     ]
    },
    {
     "data": {
      "text/plain": [
       "<keras.callbacks.History at 0x7f2100877a58>"
      ]
     },
     "execution_count": 229,
     "metadata": {},
     "output_type": "execute_result"
    }
   ],
   "source": [
    "from keras.callbacks import ModelCheckpoint  \n",
    "\n",
    "checkpointer = ModelCheckpoint(filepath='saved_models/weights.best_adamax.ResNet50.hdf5', \n",
    "                               verbose=1, save_best_only=True)\n",
    "\n",
    "epochs = 30\n",
    "batch_size = 64\n",
    "\n",
    "ResNet_model.fit(train_ResNet50, train_targets, \n",
    "          validation_data=(valid_ResNet50, valid_targets),\n",
    "          epochs=epochs, batch_size=batch_size, callbacks=[checkpointer], verbose=1)"
   ]
  },
  {
   "cell_type": "code",
   "execution_count": 232,
   "metadata": {
    "collapsed": false
   },
   "outputs": [
    {
     "name": "stdout",
     "output_type": "stream",
     "text": [
      "Train on 6680 samples, validate on 835 samples\n",
      "Epoch 1/5\n",
      "6464/6680 [============================>.] - ETA: 0s - loss: 0.0246 - acc: 0.9988Epoch 00000: val_loss did not improve\n",
      "6680/6680 [==============================] - 1s - loss: 0.0249 - acc: 0.9985 - val_loss: 0.5465 - val_acc: 0.8323\n",
      "Epoch 2/5\n",
      "6464/6680 [============================>.] - ETA: 0s - loss: 0.0194 - acc: 0.9989Epoch 00001: val_loss did not improve\n",
      "6680/6680 [==============================] - 0s - loss: 0.0194 - acc: 0.9990 - val_loss: 0.5414 - val_acc: 0.8443\n",
      "Epoch 3/5\n",
      "6464/6680 [============================>.] - ETA: 0s - loss: 0.0159 - acc: 0.9989Epoch 00002: val_loss did not improve\n",
      "6680/6680 [==============================] - 0s - loss: 0.0161 - acc: 0.9988 - val_loss: 0.5343 - val_acc: 0.8431\n",
      "Epoch 4/5\n",
      "6464/6680 [============================>.] - ETA: 0s - loss: 0.0141 - acc: 0.9986Epoch 00003: val_loss did not improve\n",
      "6680/6680 [==============================] - 0s - loss: 0.0140 - acc: 0.9987 - val_loss: 0.5380 - val_acc: 0.8455\n",
      "Epoch 5/5\n",
      "6464/6680 [============================>.] - ETA: 0s - loss: 0.0124 - acc: 0.9986Epoch 00004: val_loss did not improve\n",
      "6680/6680 [==============================] - 0s - loss: 0.0123 - acc: 0.9987 - val_loss: 0.5418 - val_acc: 0.8419\n"
     ]
    },
    {
     "data": {
      "text/plain": [
       "<keras.callbacks.History at 0x7f21009cba58>"
      ]
     },
     "execution_count": 232,
     "metadata": {},
     "output_type": "execute_result"
    }
   ],
   "source": [
    "opt = Adamax(lr=0.0002)\n",
    "epochs = 5\n",
    "batch_size = 64\n",
    "\n",
    "ResNet_model.fit(train_ResNet50, train_targets, \n",
    "          validation_data=(valid_ResNet50, valid_targets),\n",
    "          epochs=epochs, batch_size=batch_size, callbacks=[checkpointer], verbose=1)"
   ]
  },
  {
   "cell_type": "markdown",
   "metadata": {},
   "source": [
    "### Load the Model with the Best Validation Loss"
   ]
  },
  {
   "cell_type": "code",
   "execution_count": 230,
   "metadata": {
    "collapsed": true
   },
   "outputs": [],
   "source": [
    "### Load the model weights with the best validation loss.\n",
    "ResNet_model.load_weights('saved_models/weights.best_adamax.ResNet50.hdf5')"
   ]
  },
  {
   "cell_type": "markdown",
   "metadata": {},
   "source": [
    "### Test the Model\n",
    "\n",
    "Let's try out our model on the test dataset of dog images."
   ]
  },
  {
   "cell_type": "code",
   "execution_count": 201,
   "metadata": {
    "collapsed": false
   },
   "outputs": [
    {
     "name": "stdout",
     "output_type": "stream",
     "text": [
      "Test accuracy: 84.4498%\n"
     ]
    }
   ],
   "source": [
    "### TODO: Calculate classification accuracy on the test dataset.\n",
    "\n",
    "# get index of predicted dog breed for each image in test set\n",
    "ResNet50_predictions = [np.argmax(ResNet_model.predict(np.expand_dims(feature, axis=0))) for feature in test_ResNet50]\n",
    "\n",
    "# report test accuracy\n",
    "test_accuracy = 100*np.sum(np.array(ResNet50_predictions)==np.argmax(test_targets, axis=1))/len(ResNet50_predictions)\n",
    "print('Test accuracy: %.4f%%' % test_accuracy)\n"
   ]
  },
  {
   "cell_type": "markdown",
   "metadata": {},
   "source": [
    "### Predict Dog Breed with the Model\n",
    "\n",
    "Here I will write a function that takes an image path as input and returns the dog breed (`Affenpinscher`, `Afghan_hound`, etc) that is predicted by our model.  \n",
    "\n",
    "Similar to the analogous function in Step 4, our function should have three steps:\n",
    "1. Extract the bottleneck features corresponding to the chosen CNN model.\n",
    "2. Supply the bottleneck features as input to the model to return the predicted vector.  Note that the argmax of this prediction vector gives the index of the predicted dog breed.\n",
    "3. Use the `dog_names` array defined in Step 0 of this notebook to return the corresponding breed.\n",
    "\n",
    "The functions to extract the bottleneck features can be found in `extract_bottleneck_features.py`, and they have been imported in an earlier code cell. "
   ]
  },
  {
   "cell_type": "code",
   "execution_count": 235,
   "metadata": {
    "collapsed": true
   },
   "outputs": [],
   "source": [
    "### This function takes a path to an image as input\n",
    "### and returns the dog breed that is predicted by the model.\n",
    "\n",
    "from extract_bottleneck_features import *\n",
    "\n",
    "def ResNet50_predict_breed(img_path):\n",
    "    # extract bottleneck features\n",
    "    bottleneck_feature = extract_Resnet50(path_to_tensor(img_path))\n",
    "    # obtain predicted vector\n",
    "    predicted_vector = ResNet_model.predict(bottleneck_feature)\n",
    "    # return dog breed that is predicted by the model\n",
    "    breed = dog_names[np.argmax(predicted_vector)]\n",
    "    img = cv2.imread(img_path)\n",
    "    cv_rgb = cv2.cvtColor(img, cv2.COLOR_BGR2RGB)\n",
    "    imgplot = plt.imshow(cv_rgb)\n",
    "    if dog_detector(img_path) == True:\n",
    "        return print(\"The breed of dog is a {}\".format(breed))\n",
    "    else:\n",
    "        return print(\"If this person were a dog, the breed would be a {}\".format(breed))\n",
    "        "
   ]
  },
  {
   "cell_type": "code",
   "execution_count": 14,
   "metadata": {
    "collapsed": false
   },
   "outputs": [
    {
     "name": "stdout",
     "output_type": "stream",
     "text": [
      "The breed of dog is a Belgian_tervuren\n"
     ]
    },
    {
     "data": {
      "image/png": "iVBORw0KGgoAAAANSUhEUgAAANUAAAD8CAYAAADg4+F9AAAABHNCSVQICAgIfAhkiAAAAAlwSFlz\nAAALEgAACxIB0t1+/AAAIABJREFUeJzsvFesJFlinvmFz0jvbpqb1/syt6q6qrq7qruru6d7LMdq\nOIZjKBLkLkVKQxILaVeCHhaLfdrH3cVCELQiVyShHXLF4dDOdI9pO9OmvLm3rvfpvc+MyDD7UITA\nF0K76BmoQdT3EojAwTkB5P/niXPOf47gui6PecxjfnaI/7Vf4DGP+YfGY1M95jE/Yx6b6jGP+Rnz\n2FSPeczPmMemesxjfsY8NtVjHvMz5udmKkEQPikIwpYgCLuCIPyrn1c7j3nMhw3h57FOJQiCBGwD\nHwOywA3ga67rPvyZN/aYx3zI+Hn1VE8Bu67r7ruuawJ/DHz+59TWYx7zoUL+OdWbAU7+zn0WePrv\nKxyJBN10egzTNHFFsNwRoiwgCiKCI4ANLg6O62LZj64uYI5MfD6dVquJ36siSjID00SUJHy6n9HQ\nxLYsAARZwq/7MSwDyxnh2DY+jxeP6qPd7mBYJpruwRmYyLKMaY1QdY1Op4MIqKqGiICIgGB7iI3F\nwDFxXQdBcGm3WwgCGIaJrUlIkkw4GOIkd4KqqTiOgyRJBAMBut0uAjaqoiK4AgICw8GQcCRCp99l\nZFuIsohj22iygl/TERBwcGn3eziui+04yIqM67ookoYiaFgjC8ew8Pt8OIJFs9fClVwEBDy6B0WW\nMc0R7XYbn8+HC1gji2AwQLPdojscICsyoiAgCQJBnx/LtnEBVRBxgcGgj9frxRyZWJaF4zooiook\nCSBICI6LbTkoigKCQHcwQBJFREF49K6qiigKGOYIQQBRlFAVFdd1sG0HLAcAxxqheDRcAXrDAa7j\nIIsSIgIDx0JwwXUcgsEg3V4PWZLx6V6M3oCA14doQ2vQxcRGUmQkWUZ2IaDoiJZDpdNGUWUcCUzH\nxMZBEAT6DYNuayB8EPH/vEz1X0QQhN8AfgMgFPbxL/77b9Jt9IlNjNEQKshBl2azydzYNAHJz/7e\nJvlKjbmV09xbf4ika/RHPc6eW6RWKzPlU3j/1m0WLj1Bx7TwenyEFS+KInNSzLJ8eZW4M8797Vts\nH66RjMfwuT6++dlf59//n3+ELxXCUEboQ4uDo30sweby05eIRCLcvn4Lr6aTjKaZmZzBV19iYWGc\nanWXodFGVk2GRptcsUCz2eZOt8rq6hmC4QDZ4jGjkUmn0+HZK1cxDINqucqwesjy4gqCJTI+nuF7\nf/MDPvfFX+Sd2+/TMFoMRiaEggQtkSvTK6zfuM2QEW5Qp9ZqMre8yLDXp1KqoolhLi08DT2b3kGZ\nSxdWWc8+oOMdstM9oNfrEQpGOHXqFLVag9dff5PV1VUa9SayLPPVT3+e/+X/+F8pjDrML89jDvqk\nfCHmMjN4vDqv/vg1giOFVDrNUfaQc0+sIkgOO/u7WM6I9ESKYNCPJxRCaBl0S00yE1NEJsb5T3/z\n10iSQL/ewqfrrJw+zeHxEdVmi5XTp+j3ByQiY4QCQQa9PuWjPM9fucLW+hozy7NYisgP3n+L4+wJ\nTyydJaJ5eWd/m16jhdsf8YlPfIJ7GxtcffoZSic5xlyds9PzuDWDO7kt+kGRYDLKSSHLTCDGoj6G\nXDP4Qf4WmckJ1Kif2/trLJ0/Q6ve5H/77W9/YG3/vD7/csDk37mf+Ntn/xnXdf+d67qXXde9rOoy\n2XKFL37mGywlz1HdbnP9jTu0Kx3agyZNs8bpM6tYrsPaxhqmbZIrntBq18nn85w5fZpaucfp5QvI\njoeQN0olX+Hw8JDDwyMmZie5s36Xg/1jGvU2K8tnSSYz+L0hfJrO6vIpFqZmsDoGFbFNYCqMLQwZ\ndZuk/F78qoxXV0lNjxMaj5OcjCB6bTZOHrJ0cYmSUWO9eEBiaYoGJmFfELNvEA2FCfr8IDi02g36\nvR73bt9hIpUmpvnIHRzRGQw4yhcQwgHeuncTNeRnZNr02x36po/N/Trfe+0Ggh4jHJ8kEs+geQK8\n/sM38XsD5PfqZOLjtFoFhkaZSELk7v03yeUP2ds6oNys0xr08Eb8bB3uUe+2Uf0emv0uW4e7dEdD\nNm7e58u/8AVevPgMuqWS0OIsZpZpFJvgKui+IMHgFAfHDVRPnPsPj8hXOoSTE2TmV3AUnXJngDfg\npdFq0m636ff7pFMZ4sk4sk9FH/MTT8YRRBevX+fLX/0S9VaT0WjEyBlhuxadTodCp0ShU2HgmFy/\nc4uT3DHReIxEJokW1EhMJwmJKh5HYFhvMJvKoMsqW1sbZHM50jMZSo0K2+VDWv0W8zOTjEfDuMMu\noiIw0B12zRJtf4NRzKBuVBgLjrH2kw2KWw36vcEHFv/Pq6e6ASwKgjDLIzP9EvD1v7e0JPKlb36d\nMc8kAeIs/doS/9O/+Ze4pksik6TXa1Fu1FhYWqTW72A7Dk7exuPVCIVCeDweIuk4xsjm3uY2ui/M\nJ5/7BD/53muEg1HGBmkiyUl6hoWs6OTzBYa9HldWnsQjKYyFY/iSAX7w+iuIk34028Fs9Tk7vkBS\nCJKWojTrfdyOS5Me9+98n3z1kK984/NkewXuH2+RzqTQklF2yjm++o++Qa1W4b2fvsPA6TNyDWRZ\npFTIE/IH6FQ7NAtVLj59hZZjowZC9O0RlXwWTZGJ+Hwokkpts8OEf4Lz07Okx8Ic1I6pdduMXJFK\nq0ml2ebq1Y+RnIwy6JQRXZt2vUJDaNJ0h9StEflGhVarxfzZU/z09vsszC9R7jTxRIL4x6IMBZuV\n6Tlsj0wgFOUHP3qNVr3BZmmdqdkZBEfmi7/4VXxmgE6/w9bOBp6Ahi0ZVJsl2sMulmtycHzAk89e\nxLZdsEX6zT6lXIGx6BjFvSKDQZeJWAIHm+PjYwT1PSRJoFKp4toOAa+PU2dWmFydRjEdhraBLMt0\nWl1c2eH4+IiJVIKT8gmSMaKRLfCvfvefY5gmnXqN7qCPR1F55/YNnr/0NJWTQ0RdRBFs7P6QufE0\n4TE/W7kTnKBAOjNOYjJOca/N4b1tvvLpX0GVPPyJ+sMPLP6fi6lc17UEQfgW8CogAb/vuu7631de\n0RS0oE6n0aVVazNstjh9+iyuNiQajzC3MMV3//D75MoFlldP4Q8G6FodotEwXo9OtVJjs7RFs93l\nwlNX8QtxQkaQf/mVf41qKdiWyJ2NLSpzNVRZQ1RDGP0+vV6HvjGk02tx462bzMxN400n6JYrmG6V\n5egiqiGw5JunxQArBzulXcKTXmJamP3yPpt7m3TdAS1ryNruDkf5Eu7QJqiHyB/nmF+doW91uXTp\nErv3d9AVjXatxWc/83lur60hBANIXptLly5TrjfIZY+RZRnLMDkvJHju9JNMxaM0jSZvbR/yg/Wf\nML0yw8Vnr+B6Fe4+3KDGGGdOpXHtIQYCjWaXQqeLGQhhVoZ4PI/GMel0ClWTSaeTtNttdF2nVquQ\nyx7hi8Yo1xv84y/8ElggOi5bR7tUh30erD3Ej4Ksyqxt3CYc9zO0+yyuzCJ3Tbb3jpAwkFCRHZVO\nrU6j38B73ktA9SMgEUnECYfD6F4vsibTbLcxRibzi3M0ynV6wz43b99k+ZlVWs02qqShCBLFfInp\n8ys8cfY85XKRgO5heWEewTCpFAroQT+hgJ/jaoVEIsHYRIrtk30OSlleuHaVWr2C3+/FsUa89vYb\nTC4vE0+PU822eP+N+yzEVnhq7irT2jSuI6KK6gfW/89tTOW67veA7/1/Kevzebn94CZiUSG/X0QK\n2pz09jDpo4YEPKrKvfU1/JEg7W4LFBePT+PmzRt86hOfolqqkpxN4W33uPPgFl+49mU0Q0btC7g9\nC6svUlgrcqPwPhefWWXgNHCdIa1+m4Ez5PbmXU6aeZYurlA/KfHJax/hRt3GGcF7b91gbmKFpfQY\n/lCC/WCOv9z/M37lN3+V3/u/f4+LT1/ilR+/CrKHdjXPE2cv4Q4d1tcfcP7MKl23SSgUoN9pYwyG\neL0eIr4Qm/kjDksFnpqZo9HqsHTqDAHRw8033iJ58QLXrr1AaiuMUchRG3Zoux1CQY0nLp4hMZ2m\n1q3iD6iUm0cY2Rozp6MgWRR6ddrSCF8mQrs35OzKKZrNJmG/j26zRb/dwef1Ewn48fl8WMMBlXaJ\n99du89y1j9Kp1JEcmd2Hm2ye7DG2Ok2rW6c17BKNRgiEZFTZxqt78QkiiBIx1YcpSIiGgN00+dJH\nv0gsGKfS6+B3fCxNLnDSOMJ2bYbGAFmVGZoDBoaJpim4osvawweMj6V57/r7nM0sIlkCIcXP9Okp\nSp0WUS2Eaw5JxqL0yj1iY3G6vTbegB8ReOLieULhKMNuD9e18YUCFGsV2q06kuSiejWC0SiCJFFv\nNfGaUWKyRkxPY3ldLHtI9iTPaGR+YO1/KBIVo9EIUXKp9yt4ohJ9OtjyCMsZYZo2jvFolkdVVQRZ\nQPfpZDJpgiE/sixj2zYexUMsHCXg99PttgmEvfRGLaq9Ipsn66wf30eRJKLhIO12i5OTI3rDHog2\npmsi+2QK9QL1WgFRsnAkm+NSDkeBo+wRhUIBFRG70wdcHMdhfmke23UYG0synhxHExUyYxlEV2Rh\nbp5gMIjjOJjmkHqjSiwcIR6P02l1qA8H6KEAOzs7SC6EFZ2I6ke0YDgYUKpUUEMa/kSAneNNjosH\niIpLKj2GRxPxiALXnnwKRTRpNSsUCjlarRalcpV+b8hgMEDRJGqlIt1mA8cc4Y5MgrqPSCBIJBDE\nq2p4ZIWO2SWZSaJ7vdy/c5fdzS1GfQMFEcscIeAgeySisTCqquLz+HCHFolQgkw0DQMXsQ+YAhNj\nU8ylZkmMZYh7ovglLx5JpdvoYBgGhjVCURR6vUfi7w8H9Ho9LMuib/apVxsogsL89DxTqQlmU1ME\nFS+6pBH2hRgZFoORyeTcFIgiqkchnU6xs7fLxvYGiqZhOfajT8duH9O2GIxGePx+wuEwvXYPRi5h\nX4xoaAxZVRjaPfYK2+yVt7Ad6wPr+b/a7N/fRZVlDLNFqXPI/MoS6+v7yAGBMX8Ca2CzcX+Ph9s7\nPHnlCd59/11mZqeYmp1gdmGWoTEgHA7jE6HebrIwvkAuf0zvuILPUuh0OhxViiQ+Ns29+4f85Z8X\nCGV04skYHl3BlG3aTofM8iRdccjyRIo//LN/z0xqkr+5/X1OZ1ZISkGqwyJvv/UKsq3y4ssvUKuX\nqNVqRGJR1u6ucfmbV/nIhY/RLnY4PTfH3uEON7eKgEOtXkGVZbyuyMHOLjF1jL4mYkigGDZGvUPv\nqEyvXGJlfJr5uQXW9rZ4EDtmWG+Qr+8QjARoG32ee+55jnPHlOpVnHqVZ85PM31qhWK9Qb/aY1Ab\n4tE0+p0uuWYJffRIYOlYjM9+/FN85zvfxT/voVqpIQgCmVSGUCJIrd4hX84y6HdhaDMeSSB5Rcqj\nPrFwiFg0TKNaIz02Tq/Z5drlj3D/+h0SsTjPLl5jd3ubo4cHXE6t0Dpq4Ayq9CWHeqVCw6gjOxKi\nIiJJAqIiU61X8QYCmKaJ7vMQDofptzt0W12G7R4T43MM8l2O1w7pmz1Mt8/c8hTlWp6y4OCLhAjG\nVDwenWKlzGDQB1li5JgMjD6K6CESH+Mg28Z0TPyOjT8UpbC5iy568I3NIKAyEAf0g212SmsoPhE0\n+wPr+UPRUw2GQyrVPD2nzUFlh5HHoNwug+ygCCqxQJJLly4xOT3Fyy+/zMLyAqVSCUmS8Hg8lEol\n7r/zAKNmENZD9HotXN2kLuexUz3ayTK96RqqqvCRF19gd3ebkWVQKBcI6yEkXWU3d4ijOLSHVVxt\niC+jM3F+moJR4qB+wH5xj3q3jKJZNJt13n77bUzTZDQa8bWvfo3djR3e+uFrNEsNXvne93lw9wG5\nXA5FUUilUpw+vUIoEOT8+fOkE2l+cvsGoVicYDCI0e1jNjscb+6gISK4sP7wIe9VH1Lw9HDSHtKr\n03iiOi4jCidHpINBxG6XUbvC1p3b5PeP8Eserj35LJ1SE6PZ4WBjg3/0mc/xy7/0dYonOerlCr/z\nT3+LiVSasC/AWDiK6NjcuH+LUDyM7doEg0FGQ4Ojg0Pu3bnLsN9jZBlUyg0ENPLZOgdbJ2ze2eXi\nqae4dvElDtZy6E4YLBFnaOMVPSiOwsn2MYotowgKkiPi8XiwbRvXtZmfnyeVShGJhBgMBoyPpxBF\nkYDHT8gbpnxcxONKCCa0i3Vs02bQ7pOIJlC8Kq4k8tN33uHd999nYnKSsVQS13U5ODpiODJRRZkr\nTz+DaduMXLh59x6bW1vIgoRiCZSrdYq1EoVWAaIOFbmAEelg8w+kp7INi6nUFLdu3WLSN81cepa1\nO/fJbmaxYyOuXXuO0pt7nDs9TXfQIz0+jmTaaKIPs+3gIUQi7SU1keHHN37Cqacv0DRM6u0uMTHK\ntfgpnvZcwPpil9dvXudc8gU6fYNmo065O6JeajJ9ZhLHELh/a5MzZ85wsJHl85/5LN/fe5WK2Wfg\nmPQ6x/z6V57hUtLHm7feRAz78FfLJIMR0kkfe/v7+IIqd4t3iMViFGo5nk0+zcRYmmFrQK6Q58A6\nJpZM8T9/81vs7O6ztveQWHyMbspL7URCVDQURSGq+vBXZOITIbLdMqVigVIhx/Wb0OpbKOk093o2\n4dAqvniY9eMt+pLI9998FW/Az1x6jsJxnyn/EqPBiG7uGFlVeO+NW0QSUVYvnKfdbdPqNClkO5yf\nd6m1SjS7XXqKjZKIsD8w+PziWYx2l/36FoN6G5+jMXd2FTSF+/kNfrrxLp6wRa2UpbclkXjWz83q\nXbr9DmWxgk8KI2keWsddpIHAXGYWs28zcBxERUWT/QTUIE7XJuGNkg7GqbaLGOEA72bvIegCowkb\ndyRw9OAh4UCU2PwUN9e2OG61WEmn2Ts+eCQkx6XRrKOPjyO7sLa1Tr3Xwad7kM0R8/EYiiazV9xn\naS6FLYgM+gOyhQbSMES3JyG4H9wSH4qeKhaO4RkozI1NMxufZCEzja6odDstbGwqzSqJ2Qwn+SrL\nE6tsv3dAwIgyrDgE9RCZmXFS0TiYFvFAiFQ0QdDjZ3piBl3X8fh1Ng+2WX/4EEkWuH//LqGAn/np\nKSTXIRGNYHSHVAtlJmdnSY9n8Pi8rG08xBVcdL9GMKTz5JUL7O0/pDPoMT49STKVYjAccufBfUaW\nxde++Q3WNzdYWlpic3OTYDDM4fExkUScm3fvEoxGkBSV3f09spUj9k42sCQDxSdw9+FNRI/DcWGH\ndr9ENOUD2ug+uPDEKtVKA1XxEosEWFicJBIX2Nl/l9hEirsb9wmEggyHQy5feIKQ7GF5cop//KUv\ns/bgDu++8xahgI98NocxMNjfOWDUd7AHApnYDGdPncMyXWRXZPXMWfLHR3TbLU6fWqKQP6TTqiKo\nIvF0gumFGaaX5jip5HE0kUAiQtvsY2kCtVKbQq6KIqh4tQCj4QjZFRgZQ5LxOIGQH9d12d3dRVEU\n9nf3KWVLRH1R+rU+fgLEwyFG/SG9dgtFlghHQmxvb1Nr1Dlz/hwLK4t0unWOjveJxkKEwn7KlQKB\noJdkKo5lmbRaDRZWlhn2hvhtFU9f5Le/8pucT58lLI0xHlmgZRVRwhYdp0psKsjEUobx+TSi9MEt\n8aEwlegIhB0/s8EMysBFHNg8+9QVPv/Zz6HpKl2jw4gRiVCa4xs5yncbKCcqLy+/SDtbw7UG2H2D\ncjbPqZklDtd3aBfrTKbHObW8QrPXIt8o0ep3MB2LL335Czz95BMszk1i9jpEgwEigSBT6UnOXrhE\nvlbDFkT6Zp/nXniGsVSElbOLfPyTL7C4Ms2f/vl3MVybjb0dZK8Hj1fHFQW+94NXCUcihIMRlhaW\nkRUFzetF0b3MriyRL1coViusnDrDnYd3sSSHxbPLDGyTexvrSB4ZySPRMztMzaZ48qlzBPweskdF\nZIKoYoh6rYskith2h243y1b+iLub63gDXlxrxOuvvsqw1eJUZoao6uXk+IBatYSmSjz/3DOItsCT\n555kNrPI8sxpNCHARHoKZ+Qy7BvMz87xz37rnzKRSRL0e2jUi6wszaB6VTb3thA0ic2DTYqtKn1h\nxEm9iO2VCY3H+W9+/Z8xP72E1xNCV71kkhl8uo7R61I4Of7PE03z8/PkjnNgOGRi46T8Cfx4OTd/\nlsnUONgWmqr+7SSPyROXn6Az7PKxj34MUVPQNQHBNVhamGJhboLzq6dIjkUYT8WZm5lgdjpDe9Sk\n36ly9fQqL64+gVjsEBnpWHWbzXv7ZCt7dIw6isdFVlwc26LX7uE6PwM9f/AqfgY4LrqkMRaK4QxN\nhu0utmEiiwKxWBRZlgkFghiNLp1cmwlfmrQngceQ8aHgjkxc10WVZHRNQ5c9eBSNarmGLMsomoyj\ngOWMCMfDdLpNHm48wLUtTKOHrmjIooQiySiqh0qlRqlUZmpmhmg8htfrwefT2d7eYHIiBYpEtVFH\n8WgUCgWKlTLB8KN/1KmpKQbdHkvzC+BAu93m8OgIj+5DlCWWlk8hyzKG7SKpXqKxNK6gEh9Lo3n8\nuK6AonkwbYdKuYwi64RDCVxHJRgYYzR0cR0Rx3HQPAr1dgvdr6NpGpIkkYzFqRZKNCplBNvCHPUx\nR310TSUSChPw+fB5A1TLNTKpSayhzaA3JB5LcOb0KtlsFtd1CUeCFPM5gkE/obCfeDxKvV5FEKHb\n7+Fg0+53kD0KifEE4WSUSrlBs9HFsUHXfSQSCTqtNrFIhGg4iMuj/OPk5CS5kyyxWIydzS0Cup+V\nhSUWZxbQNQ/BYBC/34eiSHg8Kh6PB1VV2T/ZB9HFsg0kGbw+jU6nzdHRIe12C+tvc56u69I3Wwji\nCE120UWBsEelWS7TrFbAdfEoKh5Zwu/z4drACKL+GOLPwBIfijHVyLK4ffs2fbPFmadO0Rq1UXw+\nRAcce8RwOCDkVZn0J5g/u4jQEdFdD7cfXCea1nEDGuZoSDAWwZFkSrkiku7DKwewRyOawy66T6HR\n61HKdRlKNvFEDFmymEgl6HXaFIstpk4tkpmcBEHi6WeuMjk5TTWfp1qp4I4c3nmwwYWz59ne2eHy\ny89T6jaRBBFxZDM/O8fv//7v87kvf5H8cYtg1IcmKxSLZY6zOVrNDh7NS7fbxbJscoUOw0EdVZtg\na6fM7MwZut0B+XyX+UUXnx5FEhVadYNPvvwFhgMXG4cf/eSvGB9L8P6DHzE0RGqNHAsry9TqVerl\nCpefeIJmokoul0Mage7T8HhVRMXl8GQfXdep12q88frbvP36T7hw4SK5Qp7VpRV8skyhUmb/YJeh\nM6TdbfPCM1fI5U4oVktMT0yzt71LKBbHtB0yk1NYlknu6JAzc/P84G9+hKzByqlZ2tU6K6fmGZo9\nxsbGEEWoVevEY2NIssrLL36EoD/M7vou9UoZQ9Epqn6Om0fk81mmfLOPgs2miWk7JJNj/MVf/Dn/\n3bf+OW/cqPK5z36KO3fuYBoWtWqZ5aUl+r0uOC6SIOJKA2TVxuuFiK6yfu8GAgr9foVQRCauR2mX\nWqTjGbAlFNVDMpxB+OCTfx8OUxmWgS8VYNQa4gv7mExmGIk299bX8EgKkqoRlDTalTptuY7Tdih3\nDJq9OlFfhBvr1/H6I4SECIgS5XKVp66usLO9h23afOYLn+GtN16nWzIY2CN6Rh+n5TA7k6FaKzIY\n9KjVakhZH3/1F39JKBgkHAjTKNcxeyM+/fJnGHQHZEIZtu5tMzs7i9/vR/R5aNUb9A2T+3fuMpOZ\nRJdVrl2+yvb2Nioyi/NLxGIxSsUKIJAcS2AORywsnCPgDxMMJPnql68xHZ9DxKbbanO8myWRjOCT\n4izOzlCr1HnrzXe59sI1hj2Tnc0TIv4phobExEQAn6YyOzVNLBikW2+TnEhRb3fwan5WL56jXq9T\nadTY2tplPD3F1MwMmck0tu1y+851aoMy1++8j1/RQBLomEPajPAEfPz4zbcIa160kI+AqCOORMyO\nyeXzl7h54zYAgjkkHR5jbCLKyBowEg1qrSqDUQpXcLFdG0VRUASZm9dvceXasyA4CJLLxSdXGdV7\nGL0h+eohSlgjOTWOLTpMz01xeHhIwOvjeO+QyeQM9+/cRJJETk6O6ff7xGMJLl16knqtQTqdJjGW\nptFooas6qldmYFrsVo/RQjL5bBY94WU6FUPVPUT8McyeiUfSmEpNs3FnB6/H+4H1/OEwlTNio77L\n0twUHavD0f1drj3/PNOTGX7w2uukxydoKCO6xS75fgW/7CcUjFD19zARkcZCHBwXEGsV5mcWmVtc\nQUDi6tWreDwe3rvxHonJBG2rS3PQwu7B8plFtvcesjw9hS/oY3nsFLam0e+2GE8kKBzn8WQyvPf2\ndZ4+c4Xd+7fwqyFa9S5+nw+vrlMu5DCGQ2REdFUj4PUx6g3YOrxPOBbl9NwyzX4X14ZwMEw4FOL0\n8mlOjo65fvcug77F//C7/yNe/AAclw/QJAFfxI+EwdHBDu1mlYW5RarNLf7jH98lXynR6DZZOrvC\n4vIy5foJN997D8V1WF1dZa1SoVzvcHiY5Ze/+avkjtaptGr0+0MEVcAX9vLaT36Ebbk4jovm08ik\nkmgBCRmBSqPJYT7L1OoZtk+OmIilqLU6XJycZfuwxqXzF/CGIxx1aiRCSRrNOulUgm6rTzgTYmJy\nkUazzPMrz9Lrt5mcm8I0LU6tnmXUGyG4Ivs7+xweHvL8R6YY9YfU+yUEx6FRPGF7q0gwGGQsFUXy\nSoSiIURLIh4MM5lI4JNk6v0RjWodTdYIeAPUqk1WT5/HMAzarS7JWArF1tBDAWqDIoKqEJwNkowF\nOakXETWXk2aecDBEd9BFMEWi0Shdq8nQ+PAGav//IYMbkSgbdWZi47SzbfqDLvVqjeevXmP/8Ihi\ns0XH6HDrvVukk+OcuXCOnFnk0vgVtu/cx7INGqUi9U4PxdHw+0K8/vobuK7D6QvLvPb2j/jSN7/G\nt//0j/k99ETuAAAgAElEQVT4pz+KIoAjOOh+Ha/fR7XZ4iR7jNDrM51K4VU9nF48RfWwTG6/QK3Q\n4vJLz7KztYORH2IZJndv3ebcmbN4vD68isaT5y7Qa7XxCgq1fIVCpcRnvvSL/Ml3/pRyrcbJwTGH\nm3uMp9JUq8fgKvzBH/1bMuPTBDwBHty/RXrci2H0SCfjXFq9yvbWOvfvv4bulfAGJTzhKGOJMwxs\niZ+8/R6r56b5ype+TLGQY+PhGrrXS7ZcJtuq8cq7b3F5aZJLV57i6PCEh2trBKMB4okICwsLDIdD\n3nnnPTwhnXwlT0j10R+NqLWbxE2DhZUz7D7YRDJh7fp9xuMpJscyaIEAgWSKveMTkpEkuiyzNDND\nfCrMH/3R/8Vz165ye+0mg8GAixcvgiuxd3iE3/bgWC6hWIAzZ06B6FJqFND8Ah7JA8KQmDeJ41p0\nBn3sioOmqhjtAal4HNkV2Lj3AGvMwe/3oygajgPhcJSjwxNs2yESiSGgkIqcwZMMoUWnUDWJ8skO\nzZGLISvExhLsDY7pGz08AQ+9Sg8x4uAEh/+A1qmcEbbdI66nkNsaVkXk3q09Xvzkx/kn//q3+da/\n+F2qPyxhXPJzs1KnrmlML57hYvM88qbCN0PfoLaa43B/n/feepuZ8RSXVsYRrCrVVp1S7ZjE9Bi3\n336dsE+j3Wixs7PHXGIGrzjOlbmPs9pz+d//zb9FjDeISB6efuICynCINjBwik2uzp2meHOL7L1t\nFHmI0paYz8wDIo46YCR32N7fJxydZdIfZWJiiU4Phj0H03A5dWqFg51NGvUc4ZCImPLRLvUxhg7y\nUON8/DSf/NQzvL32Jj8sZjlyS9TXfo/KSZVz0xeZDc3jE0JsHm1Tqdicu3SastTEGVQx6iGSahxd\n1tEUP76ol1/6zc+xd7BJyopRXCsijUaEtQBXLz/FxuY69x6u8fTlJ5mYnKavNRgNbArtBotzZ2ia\nI5LBGNVOCyWoEYlFMRt7nHniHBndxW32ufneDX73y9+k1eowEYxS3drnQX6X3/rGr7G7v0fUE6M6\nanF8XKY/MqjW65xejHNwmGU58STFehdHebQJsWuY+OJRgkqMmOHBEiz2iztE0lGQHExryPrWOp94\n/uOktCSCEmLoc2l2RxxVD6m391haWCISzLCQeIn5iQuktB71QQ1VTzNiyPXiCSXDZHJ8nmGlT8AO\n02l2qPV6LMwu0R/KeOMxTHv0gfX8oTCVrutkUmksw0YSRGZmZohPpSlXykQCYY4OT3hm9RJl34in\nnrxErVRmcW4eT8EkRIDDXIVkMsnczAyqKCGMhgTDIZ668hRdY8BAcBgKLtQ7xIddDHNENByh02rT\nrNVRRYH50ytcvnCBo6GFIIlUaw3OLi+RSCSwXQtZlqnVsoycEZKqPApz+v2Y5oBYIIgqKywvL7P2\nMIdZaqFoHgREjOGIVqvF+FSKeDyOpkgIkkjEH8ZsOCwvL3Hl7FPobYVsKU/f7BOLjXFr/x6uNOTy\nhWfx2UFazQGtwYBWq0Wv12P57BIvvfQiTeEhucMyU2N+BiODQddBUTTarR6tVo+oNqTX6yH5ZAKB\nAHce3EFSFFqtDps723R7bQIhne5oSCoVoVqtkhxLIAgCjuMwFoswGBmEvQH8fj+dTge/FCYci+Lg\nEo9HKWfzJGYn6e8/4OTkBAeXZDqN4FFRPBrdch9d07BtG13XMU0TCYFWq0UwoBHQPYiiiOrzUszm\n8QQ0fH6dVquFaRnoHg9zM0vEY2muP7zO1FyS2ZlJwmNp7u/c5u33cvi82qM1vPlJZBdcbIK6D4Mu\nOwdbVCoFAgEvQ6NLuVKka3fRFA96VKXX67G2toZXV3i0p/yD8aEwVb/bxxpAZnySbDbH05ef5tba\nfdbefJNf/tqv8P79m0xcDdBsF5mMhPCPRnTyOYJ2gHKhRrfV5Tt/8D1c1+XTn/gYjm3w6luvkasU\nmFuYp2UNkXUvdq7GwtlTbB7tc/bMKlIPEn4/d9bfRTTgxacucaSGyZ1kOXv2LENjxOrFC1SOyoge\nEV/Sx8cvvsRPD39Ktt98FJexRQa9Hj5NpZGt8Tv/7bcwqwbff/UV3rn1Pv/xj7/L+afO4ZH9OEGD\neCLG1uY6J9tHPH31OV56/jlKpTLFRot+q8V7d2/gnRkDQyesTzEbeZqnzlymlWvw/b/6a9bXtqm3\naqA5vPSJF9k42icdnyQWnWDQHhLyhvH7/fzkp2+RGh9nLDVG1+hxmDtggMmD9btYOISjAbLZI86f\nPc+DvQfMzs5TK9YJB6NMZKYwLIvhaEAg6GF9Y42z89Moooe333+Xy+eu0Hd7/NWPvgvAZDjG8YlM\nS+px584dLj35JMXsCZKqoKgqvXaHxcVFHKdKJBBCVxWcsEx6IsX9BzfwqhrtVo5EeILphSQPtzew\nJJt4OonjQqPUJhmaYSnzLGe++hKuoOMi0nQ6hL0xktE4HgXyJ1us8xrzE5dYX7/O9vE29X4J3acx\ntTDOSfYEXddQvS5Jz6NY1IN7D0kmxokEI1ijR3u4PigfClMJiIS0EJqosXjuErs7hwyHFhF/FKtr\ncXnlMvV6lmLliIf3bnB68RRmt0Gz08GxBXaP1lk6vcJg0OONn75NajyGJ+zhpac+hqJpFOt1wvEE\n4WmHwFiUkSwwHA6ZT2Zotyv4dJH93Qck0hmOC2WGhkmuWMGv6WT3D7ly8TKVfBkxIvLGvdd5a/1t\n5i48gSjKJCIx4nqCnfUtavk+P/z+q1z/0TqHx0dUGnVcD7zyN2+RykxgiQO2bqzx8seeYyE4z+KZ\ns9xa+wknhTzHu4fMp+cZm0kzNjXPL//a7xImioJMv9Vh4Fhs3NvBGDp49RBvv3udJ555Cknwc/PG\nPejLOIbNtSvPUy2WefGZlyhXK9y8fwt/MMBYJsVR8QDTdai3mkxPz+IZygxGHRRZZ/3+JqqgEvSE\nmZmY5PW3Xscb0rFwmJlMIBsKB/tZbEWk7nTRIjKKZeH16ezkdri0ep71n2wTHIuxsftohjSfzyMI\nAoLjEvD6EFyDg0qW0ahMtdHD41MoFotosoam+LBthdnZZfRgmOt3b2EORXLZAl//0q8y4ZtHdXWG\nXRspoCIi4he9pMMxMrE0zqCHKkGttse9Wze4sLSM7hdolsqUGkO6dgWPrtBrtAgFgkiqim25BAIB\nHMvk4cYasUgU+EDHUwAfElNJgvRo63bPoVV7lFRWNB1V9eIM4O6NOySfOUPTbPHkM5dxDJvsQZZE\nZplKucGdkzXm5i8RDkc5c+EMf/n977CyuszuyRHX379JIpYmlZzE7Q4od+s4qoBlmVQz03z26ZfR\nYip+1c9b771N5NI8jhFic3uLS6vnOMofc/nyBUx1RN2qc9I94ZNf+BQ7uTJjiRjWYMDew20+/dxH\neCgcc7BxwDs/vYVl23T7fRS/juzz8J1v/xVf//Uv0O8blMpVTnuneee1N5m9ssLO8UOeeekqd965\nw1e+8Kskosu4eOn1thEsif/nD7+LNFIJ+gMcZB2qzRqRTIpv/8krfPSjK2TSSUZmh1PLy/zotb9g\n0BvyiU98lvsPbuGf9TB0bRzB4coL18gVj/A3qrRbDTr9Fs12HUXRkGUFj+Lh5PiYo8w+1XKR+fAc\ni4uzFEoe5LxAs9Ems7jAzZ0H7GUPuPLCVdpGg47QY7O2y4WnLlMrVwgGg3g9Ou1O51GA1rLpd7oE\nAwKKLDLodHjmyhVO8kdkkilCegRnJKO4Ondv5vmFj34SX2CSWCLM0ckRf/Af/gPPXniOifAEsiMT\nmYpz584tssVDXvrYczAQ8XnjGKMRJ4clrj33EVQgW80xcmz8oRCLy2coVYrYzhDbVqgVygD4PDr1\negMAr9eL43zwhaoPhakcyyEWiZNIxDk5OUGWVRqtKvFYgtxJDntgoY1HsFt5Ks0GdneE0GpzqJWZ\nWJznnPUs1U4VzaNQKhWIJRPUm22SspcXnv4I99/bJJFMw7hL9cCkMWgiyQLv37vH5TMXsHwiHaON\nFPewe7BNMZvjpavPIYoiiUSCfKXI2sYDxjJx4r0xdL+Pq1ev4vUH2N3axNICnBwU6LctfvDqmxRq\ndUzTRFU8DEYOYl+g0TbYfbjPytwZzKFFoVnCdV3qzSr+iI+N3XVu37/B2dOX+OuDNyg3++Qffocr\nF59D0gJUKiadfg1XEPH6orTbLkeFPNeuzBD0KTRaebZ2u0RTOmOJBTaObzJSu+SrXSKRCLFUmMFo\nxO7xMbpXwXRHJMZTlCtlguE0wXCQQbtHf9hjd3+HRCKO41jks1la3TZLviWevvIcR7UTKhttJhem\n2N/fRlJkXv6Fj/PtP/tPaEqYWCxGsVhEVR+NVRYXFxkMh+zs73H5wiTYDol4gumJDA/u3uT04gLN\ncp94YoKXnvwCNlFcLJYS53nj7vcpVbLEx3y0e8e8cuc1fueffIu7+9dpm/tYdpmgT+SZJz9CLDaJ\nJnhxEagMigzaJY7zBQ6PC6Qyae4+2CYajSKpIRA1JKH76ECcUIhioUCr0SSZTCJJygfW84fCVIIg\n0Ol0ePfmO6QzaURZZm56HhDwyT6wHbqGSa9vMOhbGO0hUclHOJJE1HRiM5Ns/niDRDzGaDTC5/XS\naDaxPS4TU9O88NWPk5BT9MZ63Hj/DhMzE+QKWSbSU1QrdWZnpnnltdeIjcdRXQ+pqJ/1tXvMpVIY\nhkGz3WJgmeQqRaaW5+gWu2RL20SjYxztHuMZ2tiGyPZOlpNcg5bRevTjCBbW0EZzFXyahzdfeZMv\nff0LKLZDW+yTXphCjnjp7e/gdzxMpCY4ye0i+n0w6vHlX/4irWqf6nGfcqPKyLEYWQ66z8egP0CR\ndd74wfv8xm98g/WHWQTRIhBL06dDTxySWE7z5k/v0jFHHFdLhBN+Ysk07VYd3etnYBrsHx4RSHSZ\nmZglFUrRa/boDrpMT0+zub1JLBFjYiqDW3J59Uc/pucZMTY9wZhfZywY4e7du2SzRUTFh9kb0BGa\nnD57Bq/XS71ep1AtE0nEcSSBWrOBqnvY3HqI3x9CFwTSoShm1uCFs1fo5RpoUS9/+O3fw/UaFLv7\nzC5M0DNq1HtDxjJ+bq6/RbZRwJVsBG1Aq13l1Vfu88SFFxFVjdd/+iqpTBhdNUhPJhmISximSaGU\nxxUFQoEIhXKOSnabVDrNzuYW7V4b3evlwYMHDIYffJ3qAwWdBEE4FAThgSAIdwVBuPm3z6KCIPxQ\nEISdv71G/ss1uTSbdWzXRtYVAtEASC4ONq1WC5/PR7/T5+Qoi9W3CHlCLE0vMZWeJhFLUMgW0D0q\n0VgYn1+n2+1ij2wkR8Yr+UgH0ugjL27LYGl8HqdjMh5NEtJ8jCdT9Ls9VEVienoaF5OpyQmWFmZI\nJ1N4NS8nJ4/ycIFQmP3DAwQXQv4QhWyBcCBE/rhIs9Ehly2hevxY4qOdw67gIkkCEhK65qWUr3Dz\n3Rs0qy1M0Wb35ABRlOm1+8xmZsGyadaqNDtlbLlHu2fR6VnExzLUmx26/T4uNoIg4LojFFWgUTHI\nH9cQBQ+CqHLq9Fk29vbojQwkrxdRUmi2+5iWRS5foNFsc3B4TL8/ZNA3yBcLnOSO6Rldap3qo7MO\nu12KpQrDgUG+UKLb6ZMaS2A7Dv5oGEtwsRxoVmuEAmGGXQNN9SJLEq7joGseZFnGEcAfDFColNnY\n2WYwGGDbI0zTRBYEVEGifFLE6hrU8xUCoofcyQZ+n4vH4xCNeFFk9//l7s1jJUvP877f2atO7Xvd\n/fbte3vvmV6np3t6OOTMiNRQIjmURCoU4ciKIgtSglgKolgOEIABEv2TzXFsB5aR2AYcLbRJmpTM\nZTgbOVv3TPf0fve17lL7XnXq7Cd/3A6RP+II0dDQWC9QqFPbV4XC9573O8/3vM9DubzHyDKIphIM\nTItUpoAoSwwNA4B4LMmrr73Bt7/9bWRVpFzbwbJ7CJJHvpgmU0iSTMcJcED0GVkDctkCY8Ui58+f\nJ51Ikkgk8LzD//ajxk+DUPupIAjOBUFw6fHj3wdeC4JgAXjt8eP/z3AcB8sxefrZq3iyR7PfpNHv\nEMhw8vTJw8k+8tD9EDOZGRYK8xxJz7C3tINgCgxbBheefIJ0MkngesiCSD5V4OknrnDtiWv0trp4\nZZfVt+8j1y0WktNovYAnpk+QknRE0yGuhMB2mZ4qcurkUTzXoXKwx/zcUTzPQ1VDrKytsrO/hyoo\n4PrUKy121nc5Nn+Ceq1Lab+KrMbwQx5C2EcKiWTzOfRwmG6jQ0yN8PD2A2KKzm6/wk7jAGNkEQ0n\nWZg8zi++9DK2ZXDizBQP1t9jeX3EVsmhN9Txgzi1+uEZ1XFHOE4fRbEYtTXeeOU22dQseiiNEk1g\n+gHj8wv0XA9B0XDcQ/JuoThJtz8knkiSyuQojI0zd2Se6YUpkF3a/S6SJpEdy2O5DheeusLJU2cR\nJZVUKkM2X0DRQ1SbDRRFobS5ixLIXHryCiFJR/Lh7KnTmKMR+7t7vPLKK7zz3nsYtsmR4wvMzM6S\nyqQRhABFFEjHogSGxbDWYVhusv1gnZ2NHxFSGqhSE1UbUWtsUShmmJo9Qmm/wfZ+g7sPNmh3XTLZ\nMe7ce8Tly1f4rd/6TX7/7/wX/Mbf+BVS4wKpnEqrW6JcW8UTuugJgUhCIaQHROMyR+fmCHyBfDbH\nyZMnKZW2yefz/DSAin8XLPUvAP/88fE/B17+iz4wlSjyO1e+yrnoNP3NPZ4sTvLL157jZDzH0wtP\nIpsyerLIZHYK2fG58f57LBkHrMgdvvX+D2g29tFOzvH6xjLvbG1iRpLouTHevfketz58i1btHvWD\nH7OlPCJ7VIVmletTC3hLHZZ+vMRwYLPV3KVi79MZtnn44DbXnjyN4jsk8im+9ePXeePBXU5euoYe\nHaMlCRzUqvRrbeyOg+hnefPHS3S6Dopgkw1NItmHHazRmMLQadM22ohqEkEuYNpjjBVPENVzjEYj\nxqYLdMU+S81dHCFMyp0iXs7zcOcRXijAcE0EQUD0ROJqjF69R0hQsXoWcibCfnPIndtlKiWN91/d\nRxOmuHV7kTdvvIESMTh2poDvtmnX95grTvCpK9eJKiEkF3KZHKdz08xEc0xFU8QFiZlMjrggktNC\nRPwAp9Xltf0PEVIKSUknS5S97TJHL51Fzul870ffJKT0EcMyajTETqVErVvHxyMRiaI5MrqtUC0N\nkUkyMTkNEQlDCyAbI3Esj74Q5ebBD5nYOo3+aJx0a568eJxLx15g2A3otIf4toM7MDh3aQxRs7n3\naI/tsosjh/FUj57VRkbB7YSpdBxGhshYYoqJ2DgZIUYxnCIi6YwGFr1mF02SefXVV5ldOMLla5do\ntctIwl/9PlUAvCIIQgD84yAI/hAoBEFQfvx6BSj8RYNYjs2HG4skn8jhagGO6jEIDPY6e6x87+t8\n75U3+J0rv4Mjm7T7HRLjcXbr2zz99FOEQipSzKPz7jZX0ifQpi/iK7C7u0thYpy33r7JpcnTKOEo\na8tbzE3NEU9HefX9H/Oll3+JP/nWn3BKO0MunUVwRBKZLG7HIJXOoEkjvvv97/KFn/85TM+jXW+S\n1HXUQEFwRVLRBKqos7i4THcwpNXuooU98oUMjUaD4bCPY46QEIhFDjdODcvk4cNFEgOfuflZ2u02\nWkgimUziOS6iILC0tMQXv/hFHuytUEyNsf+oSiqZYU+tYzseoixh2iYjx0bTAlKpFIuLi4xGA0y3\nQ6igMhB6KKLCqZPneffddzlz8gSrq6sUrkyy+HAFSRQZDPok4jk8CcKJFEMzoNrv4bY6DIcG1Q9v\no0ciACj2LrIoMT05yYUrF7hz+xbxeIKL5y7xZ9//Ng9WFnnm2Re59/ABnV6HmZkZstkM0XiEZCqO\nZzuIiky9XieTySACiVgSTdHITGWpVCpkCzkK+yKh8TzChEJJqjCeSSEJAqX9PXzbJzs3Tr8/JBzS\nOTp/hF/64lcY9j063Tp7+5tooYAAC3so4zsq9YMRxcw8gR7jYO8ApCG5dAHVE4mE48iiyvrSGqeP\nnWLQ7rOa/Cu+pgKuB0FwAXgJ+E8EQfjE//PF4NBS5P819QVB+FuCINwSBOFW2xiy3a0ykDyOnjtN\nqV2h4XYpHp9kqbzK0y9dZa+xw/EnjjH0erSGdVITCfJTOfY7JRZ3HvJS6ilejD3JwiCLdb/FL17/\nPJefvMpLn/0ie0afP793k+OnzmMCy7UtrKTPjrfPxqBE1WjS6Rms3F/n9bdusrZRwkEhlkrjBx6l\nrW1WHjxAcVwunTpLfb1GLpxDDsJU9qosL63hByKirNLq9nDMEel4jFw6ha6ppFMJxAB83ycSiRzu\nzSghRkOTVCKFiIRlmISUECePn6RyUMU1XdJqlqiYoNPoE1IjCJJCud5AUEKEogkEWcP1bCzLYjC0\nqFYbtLsDWvUO8UgKe2hRzE5w9uQ5Ntb3mJs5xvryDiPDRw8nMUcBw57DjZv3aLQNPri/SNdxEOMx\nJk6cYLvTZrvVRiuMkclGeffmmwhqwM1b7+GJPrmxcd65eYNnrj3Pp579WdqDHvFkinQ6g+O4RKJh\ndvc2mZot0OyXEUURXdfZ3d2nWqmzs71LpVxlbm6OUnmX3fIOvlHB7e1T31lh/eEd/vif/e+Ewxqh\nWISmPWSxvIOq6GhamFBI4/aH7xKLiURiPoEwxAt6ZHI6P/PJl/ib/8Fv8Xu//Qd8/tn/iOevfpnf\n+dWvMV6YIxlPEg0niWkxTh87Q7VUYfnBEl946XMMBv2PmBIfsVIFQbD/+L4mCMK3OHT7qAqCMBYE\nQVkQhDGg9m/57B8Cfwhw+vh8YPky+7Uevb6HSJjdUg1zOGL2yFEerq4xMZal0a7xmU9+mkHfYGVl\nhVq1jCbKzE3N4HVMDsoNdloH1HsH1HZ3UdNR7q/eRRvXEfwQyVSenmkipXWOnpmiSov5qyfoeyOS\nehpvFDB/7Ahuq8+N92/z/DPPIAgC6UQSPJ/tpXWitkw+lGN9cQvPFei0hqyubWG7ApoeQ5dkBu0m\nxWIRRVKYmJ3lgw8+QBJFAgHskUm73cYcFBGzMpVSHV9w8E0B2/TQ9RAThUnWlzeJRbPs7u5jdRxM\np8nQMEGRiCUTVNo1Urk8MUlmb3ePaEijWmsRz8TJ6TEEVyQeitJq1JkYK7Kxvkyv06LTafPcJ65j\nDIYk4jqlUomZzAxHCrOoT4WRQ2HKjRq1WpOQFsMPFG69/4Dzs3EunH+SsK7gCS737j3g0uWrrG3s\nUKt2yaRztDo9dO3wZKFIKo7lsjA/R7W2Rzgm4/oe9UYdx/E42KtyfH6B7fUtvvvK9xh0+giigFmw\nWFlZ48xTFyl0BrgdMGMyWjpOz7ZJpTLUqm3C4QjbO+tIksw3v7NOo1klwOGJJ4+TL8ZR8ZB8AcsA\nVQ9TTMxj0wM/IJuLMRM+gi/4pFMpYnqE2SOTvPPm20QeV+aPEn/pSiUIQkQQhNj/fQx8GngIfAf4\n1cdv+1Xg23/RWN1ujx//6Ab3bz1k0DIZtW16DQMFnWHfopCeQDAlCvECESGC6qpM5ScRbBEVlWJq\nDFPx8HQRNRUiP5Wl2a1xf/lDPNFifWcJWxxSKdfY39/HsEwc3yMzVmBojrBc55DzVhgDQabXG7C+\nuUEgCqghjXgsRj5bIB6OsbW2RUSNoIkqzVqTTrONIEjYtn3IX1NlbGuEqkjMTk9x6eIFonoEQQiQ\nJAnXdVFEhVajgyJo7O+X6bYG4Iv4DvS7AyRBpdsdEJYjuCMPSZDxPTBNEy0UIhKJIAgCuVwOXdcx\nTRPL9RgYI3r9AQQytmkT1sIEgo0XmOQLGXr9JuGQjB5R8QOLWEwnHg2T0VPE5CjHZ+bRVY1urY01\nHDFo9/nwvdu0Dprcv/2AZCTBoDcklUoxGAzY3N6iUq1h2i7d7hBRlhBFEdf1kQWRYi6PpmlomkJ/\n2KNSq5HLHQIDU1NTLC0tI0kK1WqVerOG5VjsCx3WjH2cuIirCSSLGSIRnUwyhSKIDLo9Go0WoigS\nBB66rtEftMjlE1j2gGQqxvLyIrdv3aBWqRDWNCQERvYAmxGV+h7NVgXP88ADPRxFD+lEwlFOLBwn\n8P9qr6kKwLceQ5Ay8EdBEHxfEIQPgK8LgvDrwA7w5b9ooFwmx//4B3+Pb/34z0mOxfBtk7yWJJ8t\nsnLnFU5duEC477O5ukkg7jA5OclEfhKjOiAajSCEcrzWuk0opBHJqNy6f5tTxeNEkjrZTIim6ZHM\nJOgfGFw69yQPNh5SLlU5c+YsES1BMVNk1BnhiS4KYS5fvMzKB++zvrnO8vIy4WiKI9NHyOdzFGI5\nVm/t0qn1cCwPSVQO4WPfpbK/RyQa5cT0JErgMeq2+Rf/7J/SaXWR9TCmaaFpGrIsU9qoEo/tEokn\nEHyRWrlDXM+xu7FPIpQhn5zkYLNOt9ujvF/l2PGT6DGNyekJesMeR2dnEGSZWmOXZCKBbfnkc5MY\nQxdNiTCem2B7b5FWY59IJEImpeOYh9+9vHSXhaNz3L17l8GwzaSWQ+m76NkYd1a3SMkqUS3Ksz//\nS/xx819y/donODWTo9w4IORFmCjofOlLX+Lh0iohPYxpObSae8yeHUfwIKFFGcsXOdgvgeJjDPpk\nMxl0P4r6uDW+WWly/dpzuLbDBzfeY2JmEl+A+6EGs79wlTXa3NlbI5NJo0cjhGWV49MzlMtlhr0+\nyUSaSDTExtYitm3ieDLzCzOoqnpoemAPuX3rbXxbotnsUDrYx5H7DEYNZEv6SRf0g3v3KJW2+dzL\nn+Ol536WgH/wEVLiMP7SleqxoduTj2+ngyD47x4/3wyC4IUgCBaCIHgxCILWXzSWZY/Y3VtnarKI\nFMDB1j7rS5usPlrlxU+9xFPnr1JI5nn6/NNM5ibJxLOk9Di+5eE5Hkfn5lhydlg0t6mpXZ7+7NNY\nsvqfCBkAACAASURBVMHtBzfZ2F3BFU1a/TrPX79MfafES1d+hhfPfIr92wcknBT9ao9oPMz6/iql\n1TUimsILn/okjx49Yn7hGLV6C4EQxkBgcvwYk+OTeK5LpVLBdV1EEWRRQBV9IjLguoRFiYlCjsli\ngUQ8iue4CH6A7x5aBDWqBnduLFLe7TLqeqwt7lHd7yN6EUZ9qO71aFSaDAcmsViMickx+kaXsC7R\nadVIxMKEhIBcJsPIsNAjMQRRodMb4ToQlsNMZMfodgZ4Lgz7IybGZ8imcySiKba3dmk3uxRyBf7j\nv/FrPHnyNN/55jfQVYUzx45RSKWJ+PAbX/4q9ZUdeisW5yau4jdEzKbFsfmTHBwcMHVkEjewGJg9\nzEGfsKjgDxxUT8FojLDaNploHmd4qE/R6XWxTBtjaLK5toVtubhCwEG9TCwbJTSV5fb2EoPAYXd/\nj16vj9EdoAoCvmOhyAKFQoFKpcLZsye5cPE0U9NFkqkYgiCwtVkimSgQBGFW1ze4+/ADdvZXee6F\nS7x3+0dEkhHe/eBD1reW2Sqtkcln+PXf+E2++Y3v8N6jDzAt6y+bEj8J6Wtf+9pHHuSjxj/63/6X\nrx0/l+Wgf4CoBRw/NsfLX/gc6UKWG3c+YHlnnYQiUW1WUCMaguqjp3S299dQYyIHzV1MQUAPhwip\nCu1GDdMwqNXrKCGdSCrDwPXYvXOXp89dJqcWSItJTk6c5ZNXnufW/dtICZHkRBzBBNnzeOH8NVr9\nBn3LIhDCdJpDQsRolfs0y2XavS71dgPLtbEcE3PYQ/RcCukk+XScZDJOJKwzPjbO6so6buBjez6B\nIIIo49gKju3QbLaJReIMBiPefvM9fEvEHQXsbdewHZNef8Dk9CSeb9NoVRHwSSdiyAj4lsVw2Kfd\nGSAIKv2hQSwWY3w8y2DQQNdENveqRMIpkvE81XKTbtPAsnxS8RwiITQ5QiGZ5/tvvMJItKh2atTb\nDfb2djlz/CynF85y/vQ5zqafJhUvoEd0XnnrVU5fOM2ND2/QH/SJJ+PU6lVUyePq+SuU1vYIiyFE\nV2Y0Mhkfn0CQJBDB813q5QYT+QlkJM49+QSCLGA4I46dPkZKSTCTLuJ3DDRPIqsnaDeaNLstes6Q\nzESOS09cJJfPUK7sYRh91jdWmJ6aw/cE+j0T31X4xNNf4Jlrz3Hl/BUK03kMd0B2PM/S5iaheJpj\nUxMg+giCSBDA8ROncYFv/fEP+b3//Pf/m48ynz8WNKXBqEelt03HsyjOZXmwdhfTNBhZDmYwIprO\nUekeUNrfI6xH8fH4womXqQ9rdMp1jp+cJ1SSOHv2HD/87p/RazUI6wrXrz6HJ8sM8DkYjDg1kSeq\nqpQebXBk4jjpeApvAGOpAlbEQMlAc6MFns2HS+8TCqm0Si1cVyObStOuGTiISLaFqqp0u11EWcZ1\nbBRFJqZoJCIRPNclmUgAcHTuCGPFPJsHFYLgsKtURCASimJYQxi5TE7OYtsGF568xN0P7iPPRMEX\nGZgjRBHiiRhDs8/ExBiOZaEpMqXtTcbyYyQSCVS1iSBJhNUQaihEaWePc+lpsukcmdnjWJaFgMyF\nc88yNTHG9uYG9+7dw/V8jj1xksX1VSzBxxVh7vQxXNeltLlLtdVgMtNDclWsqs1et8S7m29T2a0y\nGgzJ5TIgiVy8cp5jx+fpN6qsrqzw1PnLzM/MUzmosrK9Qr3SJJTUKR1sIYoixWKRWrnGs08/y+7u\nLo1WnVwuB2LAB99+nc/+7M8i5eJ0Ng7IhJPoExpiOsz7q3ex6x4LY3Pk8hmKxTyDYYdTp05RLBQJ\nh+JsrB3wzLVPkFWPAha1Xpm+MWRoj3j19Tcozk5z6/59pHYLwQ/4u//lf83X/8U3+eIvfpl3br6P\n/1PwwP5YJFUQUnnYbTCfmeZLz32JP2t/i26riSu5xLMqhrNH9Ng4/YGPIAvoSoxINEtEy9LptjF6\nEl84c4pEMsabZp+JuXG262UGgY3suJydnOF8Mk9tq4IoKARhk53OMhW7xK37d/mbv/1r/L1/8r+y\nWy7xK7/wJeLJGG+++yY+Ho7tcfXieRYfLCPIMr5qMls4St82icfStFotBFRsyyOVS4ASMDY2Q6PR\nYzxfQPBFZFFBCnxURSSQA5QQRFICwkDgyJEF2vUmxmCAiIBtDMhkNLrdIakwJBIJElENRQwYhlO0\nrT6G4RGKjuGIcXqDJmpIw3NGqJpHVFERbRfVD6P5KeQOdHbqjBUXaD+qstVZIz2dZC47RW1U4d2V\n18iGQpi9AedOP0lp9xDICRwHw6gx6m4RRabnrmMHbXr9B/zub/+HfOO732E2mycIfJqra1imQT0S\nIovA2voGkisjGC7DShNT6nPizDle//FrjBfHSMoWft9FG0l06w7t9TZD26C8VePpz1+lzYBus0s9\nNKLpVAlFY8zoSb544nlycoS4kmTQcrj/4QoTx2ZJJVIkpRSpcIp9r4wmwNLOO/zRP/0/WDg6wfzJ\nY2y1d/FCQyRpwGxaRfY03r35LouP1njlte+SLcZZ3lpFEP+aJJVtW8SiUQqFHDIiejTM0O3THwyI\nRGI0e20EXTtUy4nmuHfnIa5r4weHutyWNSI9OUGr0znU3dNEBltr7OzsENHCKI5PTo9Ta1Q5f+4i\nrgtbmztYnRbNdpN2t4Ouh0lnkoSiMTLFIlokQrvbJqzraCGdwXCE8Njraru5zYMHD1hYWGB1dZV6\nqwnwkwa3fr+PIAiEIzHq9ToTExNs7e8j4SHICoqioMoKsVweVVZo1us4lo0iSuQyWQSgkM/T61SJ\nRuOPkUUZ3w8ONe0MA0lSDr2DBQFBEA79dz0Vy7RRZBnDMLhz5w7VnV0KuSIvPv0iVsLlzJkzrB+s\nUBcPkIYeVrfD/sY6C3MLh/tdI5PByCCaybJba9Br3uJzz3+a0t1VdhtlLj33DH3fpmMZFFKTDEdD\n1kvbxGMRBFXBxWV7/wBVVAkFMqZrYYyGTI1NsLGxRjqZQpIFcrkMI3vE0Bzi4BPIhwYTjUaLVCzO\n/v4+4XAYJRwilkrh+z7dbp+h0aAYWLStAfWDCvMnFug12ySCEFoqh+D52IbJ0uoSmqaQTCUYDHvc\nufshluAf+nTlC2yslPjMZz7DG2+8QTQa5cjRo6zurOP7H11N82MhpikgcP3aU5QrezTMOhYWiVyK\nVDFLzzToDPvslyvsHOzRHnR494N3UBQRxzM4MjdJtbyHqoeRwxrjk5O8+eabfPKTn6RYLBJPJugP\nB4SiOk89d43X3n2dttlh/WCdzeoWs6dmMbwhKD6F8QID28MXw0hKgudf/Byp7AxbpTpzC0+gx7LE\n4hl6vQ7nn3iSQb+LJEnoWghVUXAtGwGJ0cjCtl3WNtaRtBDNTpt4IkEqlSabzZJJpZmbnCYR0slE\n45xZOMETJ0+Tz2Q5e/IU3VabqBZmdvboY5NqhWazSTwep9/vI0kS/X4f27bpdvs4ziFJ1XVdNE3j\n2LETrKysYBgmsxNTTI9NUN7bZWa6SLdTQ5F92tUyznDAidkFzpw8w8mFk9gONFt98rkphEBn5sR5\nRuEUvUSOPXnEIKXyzuYiP/jwPfLHj2DIAV5Y4eHOFrGxAhE/oNWsIcUk9gYV+iGLyFicJy+cpb5b\n4ukrl5maLGLbIyx/RDgdYq+zT8fpEegSeibK9m6J7a0SxWKRYrFILBajUqnw/q0PSOZSCLLE3naJ\n1YfL5GIpJMejtVdGtl2cbo+YovDeG2+yvrFEtpCg222yf7DNlSsXyeVT2NYQQfTRtRAvf+7zJJNJ\n/s5/9Xf50z/9U8LhMOLHhFD7kUOWJHzXoVjMUqpsc/Hpi+xU9rB8m+7QYHxihrXFTb74+ZeZnp3i\nUy98gq7T4cHKA65deor1jWW6wyGVep1LV64QSyZZXlphZ7vEo0eL7JbLrGxtocZ1Ss0yobzO537l\nZZ585kksyeTe4ofMz8+xsDDPoztLWD0bydfoN0zmx44zqI0Y1Ib0yz1KK7tYoyEj0+DMqdNcv/YM\nITVMSAkT+CALMmpIQwuHsJ1D7UJkBeRDjYhcOsdkcYKopFJIZcjGkzgjk/LOLrGQzqDXR1c12s0m\nnXaPdqt/KC+GxGg0QpIUgiDANE263TaO4yBJCqGQThAIGIbJoG+gqiEGgwHVdpuePeKzX/4iDbPB\nQWeXR9v3uXn3fb73+it874evsHNQZWJ+nq5hce3SdfrlPr/7K7/Nz136DFEhRXm/hzaZpau4tD2D\nK598hjsPHpLO5kllsxTHJzBMm4snT3Gwv0M4F2F/WKHmttnrHJDLpeg1G5w4tkA2ncT2TZSYTMdu\ns7S9hKXYOKqPGNMojk0iqSp3PryLY1oMuj1SqRSCLNC3hgyDETuVKl3LQgqH2S7t8fLLLzNzZJZI\nPIqma0QSUUTFx/WGmO6Qer1MWFeZGMsT1jUEfC5evMjY2BiGYbC4uMjVZ66RyWRQVe0jz+ePBfr3\n9//h//S18YUIg16Xd99+m89/5gtUWjXW1zfoDwzGx6Zwux5HpmbpdTrE41HmZ+a4ffcm2bEMlVqF\nmeIUXWNIvdOhMxjgAsWJCTRVIxZPoCgqHz64R3fYpzPoEcgCR0/M82DpIfFYjPn5o2QzWYzyEKs/\n5JlLz2B1TbKRDKVH6ySUKG5nQO+gTrm8SzQWpzcYsL21xdAwMYZDZEEkEgrhOAGiIJEt5Dl/+Sm+\n/8oPyY2Po6gamqaRy+RJRmPIoohtWvQ6XYaDAY16Hds63MsKgoDhyEaSZDqdPqZpMRpZmJbNaDTC\nGBm4roeiaji2h23ZSJLI1OQkkhgQiYQPuYAy7DVqfOPb3+D9+zdZL69DTKA8rDD0RnhKQKPTYXlj\ng37fwKn2+aVP/RxZQ2VYapIMJ3nte6+ycHEOQYLxyTEOdneZKBTpNhu4A5OpwhhRJUS/2cB0Pb7z\nyneptRtceOoC3XaTuakpKqUSd1cfIQgCkiwiKRKxVAxfEeibIzrDPiPb4sLZ89y+8QExPUqhUMT1\nDpeGC/NH6TVbpBIJDElBTcdo+QayrvLtf/2vMUYGA9vioNOg65osbSxx9dIFwiEZX/TpW0PCsQi+\n4xNXwjx9+Vk2Nza4ePEit+7cQpBFXNfmxquL/O5/9nv//qN/lu0wHFokdZ3JyUl8XMq7B3ziqeeo\n1FuocpgvXPss+VCezHiMRqvKysYSpmPjBD6JZIoPH97n0pWnqDYb9AZ9nvnUc+ixKNpjAzTLGPFv\nXvk+T1+9Snc0JBTX+Qd/+I948YUXkBx498fvUczlOXPsGHfvP+Se6TIyHFbaj3D6BnuVGlZ/SFwW\nqNgmQuCxu73PQbVGVE/gp7LYxpBoNI4nyIxsm5Hj8uobb3DkxAKypJJOZ/Ecl9HQxDVMHMdBEARG\n5gjXdRmORuiCgKqH0eUYUt/CdV0sy8S2XBzPJQgCZFlGkiRM08Q3BAaDAaqsIooytVoNUUjjByKd\ndo+qPSAa1Xnq4jmmp/Kk8zrhuEpkOsTINdk+2KPf6zF0LJ669BTJps90PEXv4Rrd7ohaYJGOhHj7\nzddwHIfnnv8EWhDw2puvc/Hck0QiEUQJVFVld3cbQRKZm5tjZu4IvV4HJaSxtrNFMp2le39EJHZo\nKt4bDDhy/CiPlh/S7Y/QQmEUIUS5ViekR1AlmQ9uvo/lOcycnCedSBKKR9je3UVIj+N4NqqWwMYm\nlksTSug4coAp+aixCNeuXyMciWCO+pw6dYqlnU22N3c4Pnec8uougedRLZc5fvw4yXQa13MRJRFF\n+WvS+UsgkM4WCAyT8+fPYdkO185dIxaJM6o7vHD10ygdAVd1uLH4Hp1hl6NPzjHoG4TCEXxR4d3b\ntwlUlfGpSb7yla9y885tRjslTNNkb2+PdCLJ3/7bvweSz9e/8SfsVirMzR+l0Wgwk5tkqjiJHMgU\n5wpIm48Ymxtjv1RlZ7eEogqM+iZuYNDrtzh18gReEGBbJtGwju96pJJJ2q6HY7k4gkcoHGZojHCF\nAC0UQVEOlxWaFsYzbbrDHo7joGgqtusiSBLpbAbTsQkkEUlT0SwZy+zhPpai833/kC3gOARBgKIo\nGI+rmaqq+F6AMTQxjBEIEqlUimxkDEkWcEYD1leqRKsS+bE0sWySiCyT1WN8+sp1ljbWWFl6xBdO\nXWXx3i2yAwnD9dnz29hjIcyKwdGjR/n+d79HoZBndmqa2dlZmp02hjnih2+8yVd+9aucUxTu/8//\nA6lwFMUXiMbiiGGdzWoVw3Dp9oaoIZVkKkoilQQ/4PSxk8T0JCdOnGa/WSWix3j6wkXee+8dGv0O\niUSCzqDL3Ng4ljFkYv4ES+vL6IJOVI9TebSCPTIhbBPTw/RGQ1qdPlFRQlVC3Lt7n8LcNCYC1shl\nojhJrVKlkMvzzW9+k3A8TCIepziWQ/kpqCl9LK6pBEFAkTVCkQiVco2QojKRH2dh9jhxNYo7cJAs\ngUGjjzO0SMbjhw2JQYDrB1iOje/7bJd2iEaj/Oitt1hcXETXdTKZDJIkEYgCr7zyKsPBiOvXP8H8\n/Dx9Y0ipVCKZTJNOpDk6PYeoyjSHHRzJRc/EUaIaHaPHyBuhxjROnjtFrVYhmUiQyWTwff/QbSIQ\nkAQREAmHdFRVYzAYEA5FUEMaATAcjjAM4xBU8D1s18HxPIIgQJBEQhGdZCqFFg4xskwAXNc95Kkh\nEgSH6J/v+wSP91OCIEAQBDzPw3EcXNdFVQ+dMgRBYtQd0m+0qZT2MLpt4qEQZq9HYIxQPMjoMeJq\nmEQ4QrNaIZmKk8ll0KIqWkYnd2KSh80tRFkiEouSyqQJ6WHqrSa37t6jOxywvr1FKB5leX2DQnaC\nr3z5KxyfO0YqFies6SBIeJJEPJlCklVGoxG+71OtVknEUxTSeaYnJ/FMl36/TxAELC8vMxwOiUWi\nhycS10VUZCzHZjxfYHJsnLCqEdXCTOQKhAUZBZFiKoMmyiiKQiaTI5vPEY3GUdUQiViSfm9APJZk\nd6dEKpUiFApRKBQI6WHu3buHMfqrb/34qYQkSSwvrxL4Au+89Q737z6gkJtg6f5DDrb2aO7XwfR5\ndPsBg/YAwRWxDPsQVu4bRGIJCmNFQuEwuwf7pFIpTpw4QbVa5datW7Q7HYaGQRAILC4usbS0RLvV\nYXx8nHqtie96jAYGsUicuzv3ebD5iG+88h36wYiZU3PMPbHA1Reu44XAkT0+85nPMD09jed5RKNR\nut3u4/4pgyAIfmLDmS8WUMMhEISfJIFt2yiSQiQSQdd1dF0nEosSSyYQRJFOr8vQHCGpCr4Ppmkz\nGllY1iGiKIqHSxRBEDAtA007rICW5Ty2/gwYjUZ0Op1Dux0XNE9EcVwE00LxHI7PTpOLRBnU6uwt\nr/Pat/+M9fuPuHTuHKZjkswlyB+doq85rJoVNmjQHxmoehhJU9jZ3yOaTLBT3ufmnTuMH53l+Lmz\nlCoV/tWffYvj8wvk0xmiik4ykaBcb4CmEQ5FcF2fTq9PPJmm3e4yNTnJ+uoaciBx/4O71Gp1fP9Q\nENR9TAUrFAqP2SV9Gq06qw+WkVyfuBKitLJOIZ5id32TnaVVwpJEXA2jyBqW49Dp9PCFQzJyEAh4\ntkc2m+fUqVM8MfcEyWSS+w8fsLe3x2Aw+Lc0Kv3/i4/F8i8UhPn7X/2HaIFP68w+P7j5Daans1SN\nNeZOZdg7WMQ7WuV+9z2Ks2OsVEvEjoXZr+7iOA6JaJyJ8wuMDIcISYqc4PLcZexqE3/e5x/f+D95\npfEhY3ITIWxj2QOGZhtVDjh9Yo7yfonZwiyNZoXvfOsb/PzPPI/p+4jqkMWVVZyuy0R+inbbJbAD\n7L2HFMYmKKQy9Jodut0ujiAjqWGsoc2UDrqeIBpJouth2p06lmsdOp8HHq5goygxFCWGaduIgki/\n1UMQJTQpRL8xIBaLEVY8wmEPwzSxXZ/Ad3EcEzHwSWgemC4j/7BCuoEJATi+T39kIjsiQ7NPNA+p\n1CFQc/npU8zM5ClMZfmTf/mvOHbyBMmIRkKN0ut1uPnhDYbeAFkW8QOBh0vLPHP9Oa4pGWKFONlC\nnpu3P6Q9MkmoCqdOn0AIfGbyKVaXFokrBroqsV8tEQrpxMdybG5vUGvukcqm6KcdjP6A3JEse/vb\nPP/0JyimikTjObq4DBIhFNPD9n12e00sVeZnXvg59kvbxEIqqgBHjy3QH5mEpRCu47FXL5M/f5ao\nNoVtjLB9AbM7QvY8KpUqRyenUaUQ4YhOdzhgb7CNHYNwy8T1e5w7fRJHsMiO59kqbeD+FNzpPxaV\nypc9lrv3ePXm93j9zR+Qz+cp7W3TNlp0hA6phTiLayvMn5jn3uJDDMeiXK3wqRdf4OHyQ3YP9nn/\nzRs8eewMmUSU7rBMqfqAhnNAbbRPLhtHs30mJyfpdrtks3kcxwNJotJoUu+0cHEpN6p86tnr3L1z\nB13ViGghUrE4mhKiU29y5fJTXLl4haeuXWWztMvS6gqdwRBPBNt1GdkmI9Ok2Wth+TbheARBFg6r\nSeCjSSKaJKL4AoI9xDE6YPVxjB64I3zPRiTA911c16Y5HBJOxBhaNoFwuNTD8/F9EEWZkBJGkn1k\nRUCWRSTpcGnYaffodQ1AonxQY7dUZre0z8rKGnt7+7z++ptcuXKFD2/f5YMPPiCciDF34thhJVJE\n3nrnbVRF4tzpsxxslzg6NcP0zCSrqysMBj2KxSITExNEIhFkWabX65HP5xkfH2dhYYGVlRW2trYo\nlUp0251DO5xIhLmpo4xlxxF8mc98+udw/IB6s4NluqyvbdKsNVEUBcuyiEajjEYjisUivV6PTCbD\n5ubm46Wgze7uFgQ+Vy4/hed5hBSVubk5AFRZIiGFsVoDurU2g9ah/IDgQSp+aEXbHQ1554ObhKIh\nNrbWOSjv8/wnX0ASpY88nz8WlaprtPjzG98g00twduo4/V4TTQzjuj59t0fZrLC+v8OFq5dQIhpj\nUxOokRCiLGDbLju7u1ydP4VjB4R1le3GMo7Tpd/qsVs5IHd8BndgMjM1y+bmJkePzjE+OUu9WkaP\nxMiPjzF+ZIr9SpmQojA7MYWmqFR2D5CQGM+NHbLmb/0I2ZOx7CFaSCeey2I2miBLSJJAKBIjnkwx\nPT1FJpUmkU4w6HbwPZtIWEMmQAh8QppK4I0YuhauJOC4PoIq4OJj2QaRaBLLMvHDCjaALAE+eiSE\n4Xp4nocYyMiSD/4ISQbB8Qh8H5AQRRlRlBn0bbREBElSmZ+fY211mTNn5pFEhaNHF+j2h4wcF0FX\n6DoGp8+dYXnxEYlEnPFCkWq5huL6rN6/z5mnLjMYdrh0+SLr29s4joOma4TicX7w/X/D85+8TjgS\n4p233iaTLTI9OYXt+ORyGWTlUC6gXq6DK7G3dUC10mDY7mKZHuVGh0arzfGTZ6lsLdNptYnFo4TD\nYR4+fEihUGAwGBwCO4pCZb/M/v4u5wvn6Q8Nspk0Sw8f0G12WDhyCD4VIgUmJxcYn5qk0+nQanYQ\nkChmxtjf3CcXi9Dv91H2QoxPTKCoKj/47vfIJNMfeT5/LCqVrMjMTI3z2edf4vnnPs8L5z9NPjTG\nU6evYhs+5YM6gSKBLNDothAUiUDwWV9fI3AdjF6fngD/5Ot/zNrBDpZqs97fZM3aRpmL0vB7XL1+\nDQURBZnAE1h6uIwkqqQzeQRFptKoIkcUOq0mz11/lvd+/DaOZXPi2An6nR6VgyqaojNRnARZYWf/\ngOXNTertFuF4lEDw8QWfXCFHfixLPBnBxyPAxbZNFBnEwEMKAsKiyKjXYjRoI/gmIjYRTSEV0xE8\nB0n0MQYdEqkktmcTj4bQVBGZgKgeIhGNIYkK/aFFgM2h/d8hZSvAO6Qs+eB7Ae3WgGqlSaXcYG5u\nAQKZGzfe5/bt2xSL44iixFppk8nZKda219HCGs1mE1WRGctluXr5Er/8xV9gZXWR99+/weRkkeFw\nwOrqCr1ej1wuh+u6hMMRJA6r8uzMDK+88gpjhSI7m1tcv34da2QykRkjIoRwRx5T4zPkCxMYpkUy\nmURVVSxzhOd5WJbFrVu3sCyLt956i/n5eXzfZ2dnhyAI8ByDkTlgdnqSyfEJdkv7aEqI2dlZ+p0u\nuWyaYbtHUo+xtbpBu9FiNBzx7LXrhGUNNRAJxcI4uIzPTDJyTAzDYOnRIu1O+yPP549FUmmKit23\nyMWy0LWQfIndjX0EW2S6OMv02CyNbpNkOkUggKRK+K6HJIrs7pRwLJOB79JzLdAUao06niyQmRpn\ncWeNjjOk3KgQ1WPooTCdZod8toDvBo/7oUR+9PaPiCWiJJNJIpEIyWSSVquFYRg0m23OPXmewId6\nrYkkq6SzWXK53OFvCgJSmTTxeJRsJkUqnnjcLGfhOS7x2OGECwIPVZPR9RB6NIJlWZimSTKZpNtr\nE43qgE88GibwXTzPQcRHkUXiuk4yqqOHDv2JA1FA08KH5tSC8Jh3GDy+PzSgNq0RiqKhqTqiKCNL\nh8jb5z/3BVzHJ5fLUavViESj/OitH/MrX/0qqqqSyaRQFIXR0CCTStOsNxgfLzI/fxTTNOn1O9Tr\nddbX1wG4evUqpnmo+HT29GnW1tYQEX7y/9UrVU6cOMHyw2UuXbiM73pUKofdt73HtKter0csEuXg\n4ADDMCgUCoiiSK/XQxAEOp3OT7qrz184S+BZ2LZJJBIhrGlMTc0wPTlFtVam02mRjCew7MNlc3fQ\np1KrcvPmTWanZ9BD4UPL20Sc9fV1ZFlmOBwyNzeH99eF++eZHpFRiGGty/bKMhub6/T7fbrtARE5\nyfn5y8iqwh/96R/xzDNXufnue4Q1hZnxccbzOf77//YP6MousbEcsqQxbIwYVEcMDZ/i1Bx928CT\nbKxWD9mBZDjBqGOweHeZo0eOMT09Q7VeobS/jRYOUa6ViSTjtDpdtnd2MUybV19/g4ExYjiy+Zuq\nfgAAIABJREFUSWezh0BFoUA+V2RhYYF8Nsfl8+co5rKYRp9+t0XgWKQSERxzhB84yIqIIHjUWjU2\ndvfZqzXY2T9gc2uH4XCIKIDoH5o/51MxQvhoBIwlIyxMFjh9dJonTh9jYjyPpMhkiwVE8ZA8e6hN\nqOK6NqZlYFlDRNHHc0U8T2B5aYNyuc721i43brzP3Nwcb7zxBr/8y7/M/l4JxzZ57913aLUbjI0X\n2Nsrkc6m+ZOv/zGOZ5MvpDGtAZZtcOnSBRzX+sk1zMFBma2tHSTx0Aap3TjU6Oi020yMj7O0tIQs\niEwXxnjtu9/n8oWLlMtlOr02A7NHoZilOJbl9oc3OXbsGPPz85RKJQaDAclkklDoUJwzGo0Si8Xw\n3BFj43k812Hp4SP0cIRIKIxlWfzSL/wiiiRQ67W4s/KQzfIugSaxXd7j7qP7nJw7QSaR4PzZM5xc\nmEf0PXzHZTQaIUryT9DUjxIfi6RSRYVCrMBbN37EjdV3We0sUXb2aNhVDNdgc2ub4bBPJKJz6cJF\nCvksMiJjmRz/6a/9Le69/z5KSEBWRCqL23zx3Ev85ou/TtpMcW7qPPPjMyQUicUP7/LZ515k49Eq\nkiUQVkKE5RAxPUI2k6JRqzK7MMd7t94/ZK7HY7z93g1u3LqNHkmQLUwwO38cVQmB59PvD+n3erRr\nDSaLh13L5b1dho0mgmkR1VTEwCeZ+r+4e9Ngyc6zzvN31syT+5533++tW6tUUi3aJduyZHmHbmQw\nYDAE0AEDPdPzYWJWuiMmmhli6Ohhero7umca2oDBjQcMli3wolpkqUpSqapU6627L5l5b+77ybOf\n+ZDlCoJpA4EcjIMn4nw5cTLjROT75PO+z/Nf4oyPjxJPxpCCMmooQMsESwriyiFaukHftMjlMoiC\nh6ZI5BIhJENnOh1nKpvg+MIkY7kY4YBEJBogP5Zjr1zEMl3CoRiKot6vugK+72DZffqDBq4joAUj\nxKJJ7t5ZxbZdjh9/iLfffofFxSVu3ryJKkrMT82gqQEmxkYJh8M8/8KHKNeqJLJppKBKLpcml0+j\n6z02N9eZnJzkxIkT3Lt3j2KxyJkzZ+j1euxsbbO6ukouM5QdG/R1VFmh3Wzx6PHj/INPfIK56Smq\nlRJT0+M4rknxYBsfC8voksvl8DyPXq9HMBgkkUiwtbVFt9vl6NGjRCIRCsUdFBnMQR/HtpmZmmV+\ndp5apU6pVOLJxx+nhY4XFmk6XXTZZvb4Aq7oYNKn121y6+pVbl67yp0b76FIIu1Wi7ffvYJpWe97\nPf9AJFVIC2FaffJzKQ7cXXbdNdpak6bS4MbmDc5fPs8nPvZxxkZG2C8VOLJ8GLPfY3F2htV7d9nb\n2KK2X6Rfb9DfqrEkT1B7q4i+0kI8sJmNjXJ0Zorl2UW+/Hv/iScffQzRFagUqzTrTeq1GqIPhw8t\n4QpQrlYQVQXDsfFEgenZWWzfI5XJ0B30cSyXVqNNr93Bsx0W5ubIpdLYpokMSK6LCgiWiz0YEIuE\nsT2b7GiOo8ePIQcVtESWIyfPEMvkQNF4/MmnOHz0CLFIiPGRDGP5DHMjI0ymU8yNjJDUFKIBGcce\ncFDa5aCyTzKdIKCG6fWGA2VJkvF9Hy2kEArL2PaAXk9n9d4mzWabp59+ltu379JutymXh9uhmzdv\n8sIHP0AyHsU0dBRFodMZbu86vTbZkSyO4HLx9fPMzMwgSjA9PY3nOciySL/f54UXXqDZbJLPZCkU\nCjz3zLNkMhneffsd5ufnEUWRvb09KqUSoyN5sukkR48e4cbt60zNjDM2niebTaEFh9swgMOHD5NK\npR4YxU1OTtJsNikWizTqZRYX59jb2yGVShGLxbh27Rr1ep2tjTW2trY49MgxlFSER595jMnlOVBF\nDNdEYDhi0FstEqEQM5NTpJJJJEniMz/2ow/mie8n/tqkEgThPwiCUBEE4dZfuPef1UsXhvGbgiCs\nC4JwQxCER/4mLzHwdO4Id3jTeo/taIc9w+T23QKJ2BiebzM+m8TEQA2FiMdHOXbkMVbulkinxuh3\nmwQ0m5nwHIdzyxw6tEB9sEWx+haH5lQ2b7+G0SgS8GWOj3yIn//Ar/Cjiz/Cy5Mf4398+mcZaQfo\n7ZUZySUJRQS+c/4CSkihI3TY7+7w0otPoGGRCEhcv36Nru3QNTxMTyQ3NsH0/AKqJuMwYGA2MKw6\ntW6JrlVHUl2SqSipRIJsYoSommTQdEiHR/nZH/k8T508y2MnT3Hm1EOM5OPs761ydGaCMTVAyvbR\nFJFsPEpMFfH1PjFJIuC7dBoN9na3OagdEMsmCCViSEGVtt4FyUWSBNSAghaQSQQEVNfAGui8+o3X\neOmHP8Obb17l8MwyT504zZnpRRKCRtiV8bom0yNjiK6ArAWYXj5EYmKMYquJlBvj9175GgSDZNJR\nTL3J7u4Kt+9e4d0blyk2i+zqVbBsPnXqWQZ39ziRn6WytY/oQkBVyYZiRASFfDJNLpfn2vXbaJE0\njaZJOjVOIjZKobiFGIRyax9LdWlaXS68c5lULkuxdEC328XWMgSS4yhqjLCsEZFUFueXyOXHsNUo\nPTXMw2NjRHG48OrXuHLuNfIBjedOnkZG5lZpGyEeomboGJZHVIkykRpnIj+Oab9/jYq/SaX6beAj\nf+ne99JLfwlYvH/9PPBv/iYv0ev1mJ2dpdfrMTU1xc7ODlNTUwSDQU4/coob129w7b3rlCsVvvxH\n/w9f/NLvc+rsGfqDHrdX7nLmsbPcXrvFW+9dJj6eoh/wCM/kEUdijB1ZZCB6GL7H9fXrBDMat+9e\n5b33LtP3dOrtOvuVMtFYgu2tPaz7kJhbt+6wOLdIKp6kXq3TarVQFJVsNott6SQTUeKxMEFZYiSb\nQ0LAMUxwfCLhGJFwDC0SRZJVDMshmUrT1wcMTJt0Ns/a2trw4C2BKIqUy2U0TeP48ePIioLje8Ri\nMZrtFpbloMgBRElmZW2darVKu91mYWFhiAP0HHzfG/KBRJHBYIDv2PerTgdZloftY0XhzdffJJ1O\nU282kGWZI8eOce3atQdcra2tLSRVYX19nVgshiiKyLKMiMTJ4w/juy7NWovR/JBguTA/x/TUOHdu\nvUe5XMZ1XQrFIvfW1ljf3EA3+kzNzhDRQnzj29/gW9/+M/qDHr1el/GJEbKZFJXKAaVSkZ2dLWRZ\n5saNGywsLHDv3j2Wl5cZGRmhXq9Tq9UYDAZDWJui0O52mJ2f46233iIYDBKJRNB1ne3tbS69dZlK\ntUogEqJ4sM/s/BzHThznzeuXGFgmxWKRer3O1atXURSFibFx+r3O9wVQ+9cmle/7F4G/rIj0vfTS\nPwV8wR/GZSBxX1DzrwzHdTHtYdmNxWJEo1ECisru1i6jo+Ok01lqrTa7+0X6psF2cYebd2/yhS/+\nHiOT41y5/h7zh6d45sNPIqVl7ul7vN1Y5Y3dW2yaVcYWF9jdK3K7skJb7XHu5nleufwqNafBxKFJ\nCCjMLSxy5cp1JqanEEWZU4+eIRgIs7NVwDIdJEHG9X02t7aQsFEln3Q0TC6dIB2NItkesisSUUJo\noRgDw+GgXEULx0gkU9QaLd58+11+7w++xP/wq/+UP/zyl7hw4RyOaSELIubAIKhqAOimRaPZxjRN\ngsEg3f6Adn9Aud6iXGmwWyyihUNcvXqVzfUN+v0+g14fSfCRRek+I9onEFSIRiO4vofgQ7PeRBZl\nFhcOEwyGOHL8GF/43d+hUCoyOTNNMKQRSyaYmJhgeXmZr3zlK6STKbrdLvMTcyzPL3P5wiXGcnmS\n0Rj9dhsJH8cyWVqcxdBtIpEoB5V9LMdCCSooARnDGFCtVpmcH6dULVGrl4lEVUKagmvrtJtVojEN\nxzVptVoPZNwcxyGbzdJoNFAUhXw+TyAQIBVP0Ol0qNVqrG9usF+rsLWzzW5hj0ajgSyIOCJslQos\nHl7m8PGjbOxss723ixYJMzs/R73doacbnDx5kjMPPYoiCdRKBwT+LpLqe8T30ksfB/b+wnOF+/f+\nP/EXZZ8tw6PZbFJvNigUCszNzz74N1blAK1Gm/mlJeqtJpZrYbkWoxOjHD1xjEazyaGlZWTJJ5tL\nsXuwy929e7ghkbrR4Y1332LvoMRofoxQLkRFryBEJbygT6VXI5SK4QuAL+G5IpVKhWQmTTIeR0Si\nXmsiIWEaNp43nDxZpo4iC0TDIRKRCKLngeuhihIBYcjK1XWdbrdHoVBgbXOLa+/d4MLrFwmGI/zB\nH36Zj3/8o+i9PqY5wLUdbGOYQIIkIysKkqI8YPIapk1fNxgYFpKioIUi5LIjQ/SBNUCSJCzbwLIs\nXNdGFsQhCNfzH3TORFHGtVwcy0Xv6fge3Lhxg5GxUaLx2HBOZNtIksTANHBdl16vRygUIh6L0W4M\nh+lPPPY4l954k3BQIz+S5fixI0xNTxCLRej3BkxMTHBQrVCuVmh1hjMfXR9iImuNKoY1IJ6K43su\n09NThEJBIlENwffQQgq6rhOJRIaVqN3Gsob8McuyCIVCjI6OPvhOx/fo9vv09D6V2ncxg0NERqvb\nIRjSCEXC+IJAvdlANwa0Ox3eeOMNms02lmOTHcnj43P75g2iodD/vwq1342/Si/9r/ncv/N9/5Tv\n+6fS2QTvXrvByVOnWVlbIZtNY+oDbNPi+rvvkU3mKJYOGB2bQFJExiZGUQISjVaTerPFn7/2GlPZ\nLJ16mUbzgE9/5lOkptKEMmGSuRQvPvEBCnc3KBr7XNm6CikRXdNZr20RHUlg+DZ7xX2mJucpHJSw\nLQfPFZgam2X97ibhcAzHgVany8buNoLnMp7LEQ+H8G2LeqVMq1rBaLZoVyrsl0q0m20Ku3u88847\nDAYDPvfTP83nf/bnGJ+e4sIb32GvuEs6kyKXSuM5FmfPnMJ33CE/SVVBDWAYBs1Ol1qrRUu3MD2R\ntm4hqhrF/RKBQIBoKMzE6ChhLYQWUDF0HVEE2zIwDB3fd0kkhgYBYS3CpdffolXv4Pjw0KOnuHLz\nGpbnsrm7Q6PVJJ3NEAyF+Pa5czz//PM0Gg2y2SyDdh8cj5F0nkceeoTpqSm+c+EiFy9eZGdni0Kh\ngOcJhCMJTp05zfzyAo8/8zixdIy7K7eZm5llbHqU1GgKD4dWq0YyGiIgC1jGAC2kcurUI8zNzfHy\nyy8P/1zn5oZIf01DEASq1Sq1Wg1VVVlaWOSpp59GDWvolsnaxga+IDA1NUUuk2VueYknn3uGYvkA\nFAkXnzPHzlAqlbBtmx/97E/ysY9+kmvXrlEo73H82FGmxsfodXvvNyX+1klV/u627i/ppReByb/w\n3MT9e3/1S4gy03PzrK+vk0olsG2bdDpNQA5gGw6KFKLd7DAxMYEkSfT6XbZ3NnHs4fD0sy9/luJW\ngepemUw8TbtaJSgKvPDM0zy0tMilNy6wND7Nxu4mH3zpg5x57gynnj7NT/zUT1CoFoknk/Q7Oosz\nizRaLd559woH+zWMvoNEgGatR/mghmHaSPJwltHr9Sjs7rCzvcn66h06jSq22SUguujtNpbeY356\nmoeOHmV5cQFz0Gdhboqjhw8hyyLpdIq5uSm2tzaRBJGQGqByUKHb10FRkEMh2u02hmmjWy575Sr7\njTaiquGJMtHoUAJN04KYhj4EwToWWiAAvossCUiiQH+gYxgGmqYx6BlInkSn1UMSFd6+8g7/+L/+\nr1C0ILv7RZ754Ae4efcO6+vrD+gjm2vr3Lh2HVnymZ+dptGs4vkOrudhOR6376zw3o07DAwLTYmQ\nyeRY396i3KhQqh0wcAyisRitVoulY0eYmJlmfWudVCqFIsm0ag1mJyc4+dBxZmanmZycZHV1lcXF\nRVR1iOc7ODhgf3+fXC5Ho9EgGo7QarXo9Lp4AqRyWWQtQLlaIRKJUK9W2dvb46uvvHIfne4zPTHJ\nXnUXfB/PcVldXeeP//hPEAQR2zaZnBrljcsXvy/u9H/bpPpeeul/CnzufhfwMaD9F7aJ3zN6vT7t\njk6hWGK3sIfr2eRzuaHNaL3F7sYutmFz4+o1LF0nKEtEtSC4Ds8++TTNeou2JVDpGuwVKqzdWQXD\nYNBsMZbNks4kWTh8iNMPn+I//cEf8rWvvsLY2BiVboW1jVUymQznvn0eRQyycPgQpu0gSSqRQJTT\nJx+nUW0SDoZptIc/ZK3RZnt3j62dbbZ3dvB8h0azTDgi0+6Wef6pJ/jQM0/y+KmHyKXiyL7LoNtG\nCyqcPvUwQUWg022xs7vF+OgIMxPjDDo9VEmm19PxRIlqs4XjOEQiEQLBCH3DpdLsoQRDJFMZ1KBG\nIpEglYyjaRqRUJBUKkUmm0ILBLEsC1MfYFkGjmOBJ4ADrg3dTp94MoVh2px7/Ty+LHLt5g1m5mbZ\n2tkmnkyQy+Xo9/sPGhz11j6m22NuYRrDNmh1e0zMzBBLZRg4sFducvbMk5w7f4FqvcbAtsiN5zh/\n8RzzC7Okk0kuvfsu127dYPnoMURRprBTwLVcjh89wcbqJq9f/A6e57G3t4dhDPlk3W4XwzCQJIl8\nPk+hUMB1hw6budER7q6v8vrlN7FsGy0Splqt8sgjjxAMBpmanKTTbtOs1MBxKe3skYkmOHvyUYq7\nRWzTYWp8gkajwc07N/ElAdf/OzDSFgTh94HngIwgCAXgV4H/hf+8XvrXgY8C64AOfP5v8hKO6xAM\nauxXypx86AjJZJL9zX2mj81waOIIcxNL/M63fp+QEiARCfP0U0+ycusWqihg9nXubZcomA4BOchq\nsUzEtUjmMvR6PaKJKF/8yh8ynh3n5MN